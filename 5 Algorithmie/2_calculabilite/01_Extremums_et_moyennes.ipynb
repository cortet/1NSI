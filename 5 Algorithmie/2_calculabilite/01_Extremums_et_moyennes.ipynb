{
 "cells": [
  {
   "cell_type": "markdown",
   "metadata": {},
   "source": [
    "# Thème Algorithmique :\n",
    "# Parcours séquentiel d'un tableau"
   ]
  },
  {
   "cell_type": "markdown",
   "metadata": {},
   "source": [
    "## Recherche d'une occurrence dans un tableau"
   ]
  },
  {
   "cell_type": "markdown",
   "metadata": {},
   "source": [
    "Écrire une fonction `recherche(liste, element)` qui renvoie `True` si `element` est dans liste, `False` s'il n'y est pas. \n",
    "(bien entendu, interdiction d'utiliser le mot-clé `in`...)"
   ]
  },
  {
   "cell_type": "code",
   "execution_count": 1,
   "metadata": {},
   "outputs": [],
   "source": [
    "def recherche(liste, element) :\n",
    "    i=0\n",
    "    while  i<len(liste) and liste[i]!=element:\n",
    "        i += 1\n",
    "    if (i<len(liste) and liste[i]==element):\n",
    "        return True\n",
    "    else : return False\n",
    "\n",
    "def recherche2(liste, element):\n",
    "    i=0\n",
    "    trouve=False\n",
    "    while i<len(liste) and not trouve:\n",
    "        if liste[i]==element:\n",
    "            trouve=True\n",
    "            break\n",
    "        i = i + 1\n",
    "    return trouve"
   ]
  },
  {
   "cell_type": "code",
   "execution_count": 2,
   "metadata": {},
   "outputs": [],
   "source": [
    "assert recherche([1,2,3],3)==True\n",
    "assert recherche([1],1)==True\n",
    "assert recherche([1,2,3],4)==False\n",
    "assert recherche([],1)==False"
   ]
  },
  {
   "cell_type": "markdown",
   "metadata": {},
   "source": [
    "En fonction du cours de mardi dernier, pouvez vous émettre une hypothèse quant à la complexité de la fonction `recherche`?\n",
    "\n",
    "Si l'élément recherché est au tout début de la liste, la taille de la liste n'a aucune influence et la complexité est constante. Par contre, si l'élément recherché est le dernier, on a un algorithme de complexité linéaire. On parle alors de **complexité dans le pire des cas**."
   ]
  },
  {
   "cell_type": "markdown",
   "metadata": {},
   "source": [
    "Jupyter permet l'utilisation de la fonction magique %timeit, qui mesure le temps moyen d'un code sur un très grand nombre d'exécutions.\n",
    "\n",
    "Etablissez un tableau des temps d'exécution en temps de la fonction de recherche.\n"
   ]
  },
  {
   "cell_type": "code",
   "execution_count": 3,
   "metadata": {},
   "outputs": [],
   "source": [
    "from random import *\n",
    "\n",
    "def fabrique(n):\n",
    "    '''\n",
    "    Fabrique une liste de n éléments en insérant un élément au hasard entre 1 et n\n",
    "    @params : nombre d'élément à fabriquer\n",
    "    @return : une liste de n éléments non trié\n",
    "    '''\n",
    "    liste = []\n",
    "    for k in range(n):\n",
    "        liste.append(randint(0,n))\n",
    "    return liste"
   ]
  },
  {
   "cell_type": "markdown",
   "metadata": {},
   "source": [
    "On va appeler la fonction avec %timeit pour estimer un temps moyen d'éxecution.\n",
    "Faites le avec n valant 1, 10, 100 puis 1000\n",
    "Qu'observez vous ?"
   ]
  },
  {
   "cell_type": "code",
   "execution_count": 2,
   "metadata": {},
   "outputs": [
    {
     "name": "stdout",
     "output_type": "stream",
     "text": [
      "9.55 µs ± 605 ns per loop (mean ± std. dev. of 7 runs, 100000 loops each)\n"
     ]
    }
   ],
   "source": [
    "%timeit fabrique(10)"
   ]
  },
  {
   "cell_type": "markdown",
   "metadata": {},
   "source": [
    "Quelle est la complexité de la fonction `fabrique` ?  \n",
    "On a un algorithme de complexité linéaire, c'est à dire en O(n)."
   ]
  },
  {
   "cell_type": "markdown",
   "metadata": {},
   "source": [
    "Même démarche d'observation avec la fonction `recherche`.\n",
    "Faites des tests "
   ]
  },
  {
   "cell_type": "code",
   "execution_count": 10,
   "metadata": {},
   "outputs": [
    {
     "name": "stdout",
     "output_type": "stream",
     "text": [
      "315 ns ± 26.8 ns per loop (mean ± std. dev. of 7 runs, 1000000 loops each)\n"
     ]
    }
   ],
   "source": [
    "%timeit recherche([1],1)"
   ]
  },
  {
   "cell_type": "code",
   "execution_count": 15,
   "metadata": {},
   "outputs": [
    {
     "name": "stdout",
     "output_type": "stream",
     "text": [
      "1.9 µs ± 51.4 ns per loop (mean ± std. dev. of 7 runs, 1000000 loops each)\n"
     ]
    }
   ],
   "source": [
    "%timeit recherche([1,2,3,4,5,6,7,8,9,10],randint(1,10))"
   ]
  },
  {
   "cell_type": "markdown",
   "metadata": {},
   "source": [
    "Puis on va introduire une dose d'aléataoire."
   ]
  },
  {
   "cell_type": "code",
   "execution_count": 16,
   "metadata": {},
   "outputs": [
    {
     "name": "stdout",
     "output_type": "stream",
     "text": [
      "13.4 µs ± 859 ns per loop (mean ± std. dev. of 7 runs, 100000 loops each)\n"
     ]
    }
   ],
   "source": [
    "%timeit recherche(fabrique(10),randint(1,10))"
   ]
  },
  {
   "cell_type": "code",
   "execution_count": 17,
   "metadata": {},
   "outputs": [
    {
     "name": "stdout",
     "output_type": "stream",
     "text": [
      "117 µs ± 10.4 µs per loop (mean ± std. dev. of 7 runs, 10000 loops each)\n"
     ]
    }
   ],
   "source": [
    "%timeit recherche(fabrique(100),randint(1,100))"
   ]
  },
  {
   "cell_type": "markdown",
   "metadata": {},
   "source": [
    "Qu'observez vous ? Que pouvez vous en déduire de la complexité de recherche ?\n",
    "Est ce cohérent avec votre hypothèse de départ ?\n",
    "\n",
    "entre \n",
    "%timeit recherche([1,2,3,4,5,6,7,8,9,10],randint(1,10))\n",
    "et \n",
    "%timeit recherche(fabrique(10),randint(1,10))\n",
    "on devrait avoir des résultats corrélés puisque l'on traite la même quantité de données.\n",
    "Mais on observe des temps de 1.9 µs à 13.4 µs.\n",
    "On a un rapport de x7 entre les 2.\n",
    "\n",
    "L'algorithme est de complexité **linéaire (ici n*n)**.  \n",
    "On dit aussi qu'il est **d'ordre $n^2$**.  \n"
   ]
  },
  {
   "cell_type": "markdown",
   "metadata": {},
   "source": [
    "## Recherche d'extremum dans une liste"
   ]
  },
  {
   "cell_type": "markdown",
   "metadata": {},
   "source": [
    "## Activité débranchée\n",
    "Vous disposez des cartes numérotées 3, 2, 4, 6, 9, 1, 5 disposées dans n'importe quel ordre.\n",
    "\n",
    "Vous disposez aussi d'une carte \"support\" nommée `m`.  \n",
    "\n",
    "![](data/deck.png)\n",
    "\n",
    "\n",
    "1. Exprimer oralement l'algorithme permettant de trouver quelle est la carte portant la valeur maximale.\n",
    "2. Ecrire cet algorithme en langage naturel."
   ]
  },
  {
   "cell_type": "markdown",
   "metadata": {
    "hide_input": true
   },
   "source": [
    "## Création d'une fonction `maximum(liste)`\n",
    "\n",
    "*Attention : nous allons recréer une fonction qui, bien sûr, existe déjà en Python, sous le nom `max()`.*\n",
    "\n",
    "Ecrire l'algorithme en Python.  \n",
    "Il est expressément demandé de construire une fonction nommée `maximum()`, qui prenne en argument une liste, et qui renvoie le plus grand nombre de cette liste.\n",
    "\n",
    "**Exemple d'utilisation :**\n",
    "```python\n",
    ">>> maximum([3,1,6,2])\n",
    ">>> 6\n",
    "```\n"
   ]
  },
  {
   "cell_type": "code",
   "execution_count": 5,
   "metadata": {
    "solution2": "hidden"
   },
   "outputs": [],
   "source": [
    "def maximum(liste):\n",
    "    if len(liste)==0:\n",
    "        return None\n",
    "    else : \n",
    "        m = liste[0]\n",
    "        for k in liste :\n",
    "            if k > m :\n",
    "                m = k\n",
    "        return m              \n",
    "def maximum2(liste):\n",
    "    if len(liste)==0:\n",
    "        return None\n",
    "    else : \n",
    "        m = liste[0]\n",
    "        for k in range(len(liste)) :\n",
    "            if liste[k] > m :\n",
    "                m = liste[k]\n",
    "        return m  "
   ]
  },
  {
   "cell_type": "code",
   "execution_count": 6,
   "metadata": {
    "solution2": "hidden"
   },
   "outputs": [],
   "source": [
    "assert maximum([2,7,5])==7\n",
    "assert maximum([1])==1\n",
    "assert maximum([])== None"
   ]
  },
  {
   "cell_type": "markdown",
   "metadata": {},
   "source": [
    "### Complexité de l'algorithme\n",
    "  \n",
    "L'algorithme de recherche de `maximum` est de **complexité linéaire**."
   ]
  },
  {
   "cell_type": "markdown",
   "metadata": {},
   "source": [
    "# Calcul de la moyenne des termes d'une liste\n",
    "Créer une fonction `moyenne()` qui prenne en argument une liste et qui renvoie la moyenne des nombres de cette liste."
   ]
  },
  {
   "cell_type": "code",
   "execution_count": 8,
   "metadata": {},
   "outputs": [],
   "source": [
    "def moyenne(liste):\n",
    "    if len(liste) == 0 :\n",
    "        return None\n",
    "    else : \n",
    "        somme = 0\n",
    "        for i in range(len(liste)):\n",
    "            somme = somme+liste[i]\n",
    "        return somme//len(liste)"
   ]
  },
  {
   "cell_type": "code",
   "execution_count": 9,
   "metadata": {},
   "outputs": [],
   "source": [
    "assert moyenne([2,4])==3\n",
    "assert moyenne([2])==2\n",
    "assert moyenne([])==None"
   ]
  },
  {
   "cell_type": "markdown",
   "metadata": {},
   "source": [
    "### Complexité de l'algorithme\n",
    "  \n",
    "L'algorithme de recherche de `moyenne` est de **complexité linéaire**."
   ]
  }
 ],
 "metadata": {
  "kernelspec": {
   "display_name": "Python 3",
   "language": "python",
   "name": "python3"
  },
  "language_info": {
   "codemirror_mode": {
    "name": "ipython",
    "version": 3
   },
   "file_extension": ".py",
   "mimetype": "text/x-python",
   "name": "python",
   "nbconvert_exporter": "python",
   "pygments_lexer": "ipython3",
   "version": "3.8.3"
  },
  "toc": {
   "base_numbering": 1,
   "nav_menu": {},
   "number_sections": false,
   "sideBar": true,
   "skip_h1_title": false,
   "title_cell": "Table of Contents",
   "title_sidebar": "Contents",
   "toc_cell": false,
   "toc_position": {},
   "toc_section_display": true,
   "toc_window_display": true
  }
 },
 "nbformat": 4,
 "nbformat_minor": 2
}
