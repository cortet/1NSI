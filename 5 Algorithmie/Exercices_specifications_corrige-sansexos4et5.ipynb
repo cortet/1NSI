{
 "cells": [
  {
   "cell_type": "markdown",
   "metadata": {},
   "source": [
    "# Exercices Spécifications et tests"
   ]
  },
  {
   "cell_type": "markdown",
   "metadata": {},
   "source": [
    "Pour chacun des exercices ci-dessous, vous devez rédiger l'entête de la donction (docstring) puis les tests nécessaires (assert)"
   ]
  },
  {
   "cell_type": "markdown",
   "metadata": {},
   "source": [
    "Les exercices ci dessous sont des révisions d'algorithmie et reprennent également ce que vous avez vu sur les listes."
   ]
  },
  {
   "cell_type": "markdown",
   "metadata": {},
   "source": [
    "### Exercice 1\n",
    "\n",
    "On rappelle que la fonction `randint(a, b)` du module `random` permet de tirer un nombre au hasard entre `a` et `b` compris.  En particulier elle permet de tirer l'indice d'un élément de tableau au hasard ..."
   ]
  },
  {
   "cell_type": "code",
   "execution_count": 1,
   "metadata": {},
   "outputs": [],
   "source": [
    "import random\n",
    "\n",
    "def tirer_une_carte():\n",
    "    couleurs = ('pique','trèfle','coeur','carreau')\n",
    "    valeurs = ('7', '8', '9', '10', 'V', 'D', 'R', 'AS')\n",
    "    indice_c = random.randint(0,3)\n",
    "    indice_v = random.randint(0,7)\n",
    "    coul = couleurs[indice_c]\n",
    "    val = valeurs[indice_v]\n",
    "    return (val, coul)"
   ]
  },
  {
   "cell_type": "markdown",
   "metadata": {},
   "source": [
    "ici, avec le module random, est il possible de rédiger un test d'égalité \n",
    "exemple ``` assert tirer_une_carte() == 1 ```\n",
    "Comment peut-on ?"
   ]
  },
  {
   "cell_type": "code",
   "execution_count": 4,
   "metadata": {},
   "outputs": [],
   "source": [
    "assert tirer_une_carte()[0] is not None\n",
    "assert tirer_une_carte()[1] is not None\n",
    "#ou\n",
    "assert len(tirer_une_carte())==2"
   ]
  },
  {
   "cell_type": "markdown",
   "metadata": {},
   "source": [
    "## Exercice 2"
   ]
  },
  {
   "cell_type": "markdown",
   "metadata": {},
   "source": [
    "On vous donne une liste et on veut écrire une fonction qui donne le nombre d'élément de cette liste supérieurs ou égaux à 100."
   ]
  },
  {
   "cell_type": "code",
   "execution_count": 1,
   "metadata": {},
   "outputs": [],
   "source": [
    "def compter_occurences_sup100(uneliste):\n",
    "    \"\"\"\n",
    "    fonction qui compte dans une liste le nombre d'occurrences supérieur à 100\n",
    "    \n",
    "    Paramètre d'entrée : uneliste : type liste : liste d'entiers.\n",
    "    Paramètre de sortie : un entier : compteur d'occurrence\n",
    "    \"\"\"\n",
    "    #initialistaion du compteur d'occurrence\n",
    "    compteur = 0\n",
    "    #Boucle qui analyse chaque élément de la liste\n",
    "    for elt in uneliste:\n",
    "        #Test de supériorité à 100 de l'élément \n",
    "        if elt >= 100:\n",
    "            #Incrémentation du compteur\n",
    "            compteur = compteur + 1\n",
    "    return compteur"
   ]
  },
  {
   "cell_type": "markdown",
   "metadata": {},
   "source": [
    "> Rédiger le test pour la liste [100,20,50,150,240,99]"
   ]
  },
  {
   "cell_type": "code",
   "execution_count": 2,
   "metadata": {},
   "outputs": [],
   "source": [
    "li1 = [100,20,50,150,240,99]\n",
    "assert compter_occurences_sup100(li1) == 3\n",
    "li2 = [200,500,300]\n",
    "#Cas limite toutes les occurrences > 100\n",
    "assert compter_occurences_sup100(li2) == 3\n",
    "li3 = [1,2,3,5,2]\n",
    "#Cas limite aucune occurrence > 100\n",
    "assert compter_occurences_sup100(li3) == 0\n",
    "#Cas limite de la liste vide\n",
    "assert compter_occurences_sup100([]) == 0"
   ]
  },
  {
   "cell_type": "markdown",
   "metadata": {},
   "source": [
    "> Rédiger le test pour la liste [50*i for i in range(7)]"
   ]
  },
  {
   "cell_type": "code",
   "execution_count": 9,
   "metadata": {},
   "outputs": [],
   "source": [
    "list2 = [50*i for i in range(7)]\n",
    "assert compter_occurences_sup100(list2) == 5"
   ]
  },
  {
   "cell_type": "markdown",
   "metadata": {},
   "source": [
    "## Exercice 3"
   ]
  },
  {
   "cell_type": "markdown",
   "metadata": {},
   "source": [
    "Sur les fonctions suivantes, déterminer les assertions à mettre en oeuvre pour tester ces fonctions.\n",
    "Et corriger si nécessaire le code de la fonction pour qu'elle fonctionne comme l'indique sa spécifications"
   ]
  },
  {
   "cell_type": "code",
   "execution_count": 21,
   "metadata": {},
   "outputs": [],
   "source": [
    "def echange_v1(liste):\n",
    "    \"\"\"\n",
    "    modifie la liste, la met dans l'ordre inverse\n",
    "    @param d'entrée : liste : type List : liste à renverser\n",
    "    @param de sortie : Liste : typ List : Liste renversée\n",
    "    \"\"\"\n",
    "    n=len(liste)\n",
    "    #Il faut s'arrêter à la moitiè de la liste sinon on defait ce que l'on vient de faire\n",
    "    for i in range(n//2):\n",
    "        liste[i], liste[n-1-i] = liste[n-1-i], liste[i]\n",
    "    #il faut retourner la liste\n",
    "    return liste"
   ]
  },
  {
   "cell_type": "code",
   "execution_count": 23,
   "metadata": {},
   "outputs": [],
   "source": [
    "#cas 1 : liste avec un nombre pair d'items\n",
    "l1 = [1,2,3,4]\n",
    "assert echange_v1(l1) == [4,3,2,1]\n",
    "#cas 2 : liste avec un nombre impair d'items\n",
    "l2 = [1,2,3]\n",
    "assert echange_v1(l2) == [3,2,1]\n",
    "#Cas limite : liste vide\n",
    "assert echange_v1([]) == []"
   ]
  },
  {
   "cell_type": "code",
   "execution_count": 25,
   "metadata": {},
   "outputs": [],
   "source": [
    "def echange_v2(liste):\n",
    "    \"\"\"modifie la liste, la met dans l'ordre inverse\"\"\"\n",
    "    n=len(liste)\n",
    "    for i in range(n//2):\n",
    "        #on perd liste[i] en l'écrasant avec la valeur de liste[n-1-i]\n",
    "        #Il faut passer par une variable temporaire pour ne pas perdre la valeur\n",
    "        temp  = liste[i]\n",
    "        liste[i]=liste[n-1-i]\n",
    "        liste[n-1-i]=temp\n",
    "    #il faut retourner la liste\n",
    "    return liste"
   ]
  },
  {
   "cell_type": "code",
   "execution_count": 26,
   "metadata": {},
   "outputs": [],
   "source": [
    "#cas 1 : liste avec un nombre pair d'items\n",
    "l1 = [1,2,3,4]\n",
    "assert echange_v2(l1) == [4,3,2,1]\n",
    "#cas 2 : liste avec un nombre impair d'items\n",
    "l2 = [1,2,3]\n",
    "assert echange_v2(l2) == [3,2,1]\n",
    "#Cas limite : liste vide\n",
    "assert echange_v2([]) == []"
   ]
  },
  {
   "cell_type": "code",
   "execution_count": 31,
   "metadata": {},
   "outputs": [],
   "source": [
    "def ajoutUnListe(liste):\n",
    "    \"\"\"modifie la liste, ajoute 1 à chacun des termes\"\"\"\n",
    "    n= len(liste)\n",
    "    #Il faut commencer à l'indice 0\n",
    "    #et Il faut s'arrêter un cran avant la fin de la liste\n",
    "    for i in range(n):\n",
    "        liste[i] = liste[i]+1\n",
    "    #il faut retourner la liste\n",
    "    return liste"
   ]
  },
  {
   "cell_type": "code",
   "execution_count": 32,
   "metadata": {},
   "outputs": [],
   "source": [
    "l3 = [1,2,3]\n",
    "assert ajoutUnListe(l3) == [2,3,4]\n",
    "#Cas limite : liste vide\n",
    "assert ajoutUnListe([]) == []"
   ]
  }
 ],
 "metadata": {
  "kernelspec": {
   "display_name": "Python 3",
   "language": "python",
   "name": "python3"
  },
  "language_info": {
   "codemirror_mode": {
    "name": "ipython",
    "version": 3
   },
   "file_extension": ".py",
   "mimetype": "text/x-python",
   "name": "python",
   "nbconvert_exporter": "python",
   "pygments_lexer": "ipython3",
   "version": "3.8.3"
  }
 },
 "nbformat": 4,
 "nbformat_minor": 4
}
