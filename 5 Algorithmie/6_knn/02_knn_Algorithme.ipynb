{
 "cells": [
  {
   "cell_type": "markdown",
   "metadata": {
    "colab_type": "text",
    "id": "emk6sw0OaVxc"
   },
   "source": [
    "# Méthode du K-Nearest-Neighbours (KNN), ou les k-plus-proches-voisins"
   ]
  },
  {
   "cell_type": "markdown",
   "metadata": {},
   "source": [
    "Pour le suivi de votre travail, merci de compléter le formulaire forms : [ici](https://forms.office.com/Pages/ResponsePage.aspx?id=DQSIkWdsW0yxEjajBLZtrQAAAAAAAAAAAAN__th3qwdURFFOU1dMOVhJV0dCN1BaR1JCRDdLSzZEWS4u)"
   ]
  },
  {
   "cell_type": "markdown",
   "metadata": {},
   "source": [
    "## Introduction"
   ]
  },
  {
   "cell_type": "markdown",
   "metadata": {},
   "source": [
    "L’algorithme des k plus proches voisins appartient à la famille des algorithmes d’apprentissage automatique (machine learning).\n",
    "\n",
    "L’idée d’apprentissage automatique ne date pas d’hier, puisque le terme de machine learning a été utilisé pour la première fois par l’informaticien américain Arthur Samuel en 1959. Les algorithmes d’apprentissage automatique ont connu un fort regain d’intérêt au début des années 2000 notamment grâce à la quantité de données disponibles sur internet.L’algorithme des k plus proches voisins est un algorithme d’apprentissage supervisé, il est nécessaire d’avoir des données labellisées (c'est à dire disposant d'une étiquette descriptive ou label). \n",
    "\n",
    "À partir d’un ensemble E de données labellisées, il sera possible de classer (déterminer le label) une nouvelle donnée (donnée n’appartenant pas à E). L’algorithme des k plus proches voisins est une bonne introduction aux principes des algorithmes d’apprentissage automatique, il est en effet relativement simple à appréhender.\n"
   ]
  },
  {
   "cell_type": "markdown",
   "metadata": {},
   "source": [
    "## Principes de fonctionnement"
   ]
  },
  {
   "cell_type": "markdown",
   "metadata": {},
   "source": [
    "Pour ceux qui aiment les vidéos, en voici une sur le fonctionnement de l'algorithme :\n",
    "\n",
    "Comprendre le Machine Learning: L'algorithme du KNN : https://www.youtube.com/watch?v=9pvbEP1eyNY\n",
    "\n",
    "En mode texte, le principe du knn : \n",
    "\n",
    "Si l'on prend le schéma ci dessous : \n",
    "\n",
    "![](data/picKNN.png)\n",
    "\n",
    "On va s'intéresser à un ensemble de données labellisées possédant 2 caractéristiques principales. On pourra modéliser cette ensemble à l'aide d'un graphique (d'ou l'utilisation de la librairie Pandas en travail préparatoire), où l'une des caractéristiques sera positionnée en abscisse et la seconde en ordonnée.\n",
    "Dans le modèle ci dessus, on a 2 labels \"étoile rouge\" et \"triangle vert\", avec 2 caractéristiques X en abscisse et Y en ordonnée. \n",
    "\n",
    "**Le but de notre algorithme est de détermine de quel label est notre point d'interrogation.**\n",
    "\n",
    "L'algorithme des plus proches voisins se base sur la distance entre un nouvel élément inconnu et ceux issus de l'ensemble d'apprentissage.\n",
    "Pour calculer cette distance, on va utiliser la distance euclidienne (on peut utiliser d'autres calculs de distance mais c'est la plus naturelle pour vous en première).\n",
    "\n",
    "**Distance euclidienne :**\n",
    "si le point 1 a pour coordonnées (x1, y1) et le point 2 a pour coordonnées (x2,y2) :\n",
    "\n",
    "distance(point1, point2) = $\\sqrt{(x_{1}-x_{2})^2+(y_{1}-y_{2})^2}$\n",
    "\n",
    "**Formulation de l'algorithme :**\n",
    "Pour prédire si notre point d'interrogation est une \"étoile rouge\" ou un \"triangle vert\", on peut formuler l'algorithme de prédiction comme suit :\n",
    "1. Trouver, dans l'échantillon, les _k_ plus proches voisins de notre point d'interrogation.\n",
    "2. Parmi ces proches_voisins, trouver la classification majoritaire\n",
    "3. Renvoyer la classification majoritaire.\n",
    "\n",
    "La notion de distance va être utilisée pour classifier les données."
   ]
  },
  {
   "cell_type": "markdown",
   "metadata": {},
   "source": [
    "_repondre Q1, q2 du forms_"
   ]
  },
  {
   "cell_type": "markdown",
   "metadata": {},
   "source": [
    "### Exercice 1 :\n",
    "Récupérer l’image ci-dessous et à l’aide d’un outil de traitement d’image (paint par exemple) placer les points A(5,0) et  B(1,4)   puis enfin le point I(3,3).\n",
    "\n",
    "![graphe1](data/graphe1.PNG)\n",
    " \n",
    "De A ou de B, quel est le plus proche voisin de I ?\n",
    "Confirmer votre intuition par le calcul de la distance euclidienne entre I et A, puis entre I et B."
   ]
  },
  {
   "cell_type": "markdown",
   "metadata": {},
   "source": [
    "_repondre Q3, q4,q5 du forms_"
   ]
  },
  {
   "cell_type": "markdown",
   "metadata": {},
   "source": [
    "## Mise en Application"
   ]
  },
  {
   "cell_type": "markdown",
   "metadata": {
    "colab_type": "text",
    "id": "XRnszWrWYi6v"
   },
   "source": [
    "**Notre objectif :** \n",
    "Nous allons reprendre le jeu de données sur les joueurs du top14 utilisé dans le travail préparatoire.\n",
    "\n",
    "\n",
    "**Question :** si on croise une personne nous disant qu'elle veut jouer en top14, et qu'elle nous donne son poids et sa taille, peut-on lui prédire à quel poste elle devrait jouer ?\n",
    "\n",
    "Rappel sur la classification en utilisant le poids et la taille des joueurs de rugby.\n",
    "\n",
    "Pour un joueur A (PoidsA, Taille A) et un joueur B (PoidsB, TailleB) :\n",
    "\n",
    "![](data/distAB.png)"
   ]
  },
  {
   "cell_type": "code",
   "execution_count": null,
   "metadata": {
    "colab": {},
    "colab_type": "code",
    "id": "L9Yp-3USaVyY"
   },
   "outputs": [],
   "source": [
    "import pandas as pd #import du module pandas, abrégé classiquement par \"pd\""
   ]
  },
  {
   "cell_type": "code",
   "execution_count": null,
   "metadata": {
    "colab": {},
    "colab_type": "code",
    "id": "W9JdmXZiaVzo"
   },
   "outputs": [],
   "source": [
    "df = pd.read_csv('top14.csv', encoding = 'utf-8')"
   ]
  },
  {
   "cell_type": "markdown",
   "metadata": {
    "colab_type": "text",
    "id": "9CuiJUBAcIl-"
   },
   "source": [
    "### Résultat attendu :\n",
    "\n",
    "Il faut créer une fonction `knn()` qui prend en argument `poids` et `taille` , qui sont les caractéristiques du nouveau joueur. La fonction doit renvoyer une chaîne de caractère correspondant au poste auquel elle est susceptible de jouer.\n",
    "\n",
    "Exemple : \n",
    "\n",
    "![](data/knn2.png)\n",
    "\n"
   ]
  },
  {
   "cell_type": "code",
   "execution_count": null,
   "metadata": {
    "colab": {},
    "colab_type": "code",
    "id": "4VCiIUUAdGqO"
   },
   "outputs": [],
   "source": [
    "def knn(poids, taille):\n",
    "  #On ajoute une nouvelle colonne distance à notre jeu de données pandas\n",
    "  #correspondant la la distance euclienne entre le nouveau et la ligne traitée\n",
    "  df['distance']=(df['Taille']-taille)**2+(df['Poids']-poids)**2\n",
    "  # On trie le jeu de donnée sur cette nouvelle colonne\n",
    "  newdf = df.sort_values(by='distance', ascending=True)\n",
    "  #On ne garde que les 6 premières lignes que l'on 'copie' dans un nouveau dataframe\n",
    "  newdftri = newdf.head(6) #on prend les 6 joueurs les plus proches physiquement\n",
    "  #On ne garde que le poste le plus fréquent sur ces 6 lignes\n",
    "  sol = newdftri['Poste'].describe().top\n",
    "  return sol"
   ]
  },
  {
   "cell_type": "code",
   "execution_count": null,
   "metadata": {
    "colab": {
     "base_uri": "https://localhost:8080/",
     "height": 384
    },
    "colab_type": "code",
    "id": "w_Xs_ypE7aaL",
    "outputId": "192b7ce5-6d92-41a6-a9ad-33285b7fb09b"
   },
   "outputs": [],
   "source": [
    "knn(93,188)"
   ]
  },
  {
   "cell_type": "markdown",
   "metadata": {},
   "source": [
    "### Compréhension\n",
    "Et si [Nicola karabatic](https://fr.wikipedia.org/wiki/Nikola_Karabatic) jouait au rugby, à quel poste jouerait-il ?"
   ]
  },
  {
   "cell_type": "markdown",
   "metadata": {},
   "source": [
    "_répondre Q6 forms_"
   ]
  },
  {
   "cell_type": "markdown",
   "metadata": {
    "colab": {},
    "colab_type": "code",
    "id": "Ztrj7mab7cmv"
   },
   "source": [
    "## Influence du paramètre $k$"
   ]
  },
  {
   "cell_type": "markdown",
   "metadata": {},
   "source": [
    "Dans le code précédent, on a travaillé avec $k=6$ et c'est le poste majoritaire parmi les 6 joueurs les plus proches qui a été donné par l'algorithme.  \n",
    "Modifions légèrement la fonction `knn()` afin d'observer l'influence du paramètre $k$ sur la prédiction :"
   ]
  },
  {
   "cell_type": "code",
   "execution_count": null,
   "metadata": {},
   "outputs": [],
   "source": [
    "def knn(poids, taille, k):\n",
    "  df['distance']=(df['Taille']-taille)**2+(df['Poids']-poids)**2\n",
    "  newdf = df.sort_values(by='distance', ascending=True)\n",
    "  newdftri = newdf.head(k) #on prend les k joueurs les plus proches physiquement\n",
    "  sol = newdftri['Poste'].describe().top\n",
    "  return sol\n",
    "\n",
    "#On boucle pour déterminer pour k allant de 1 à 20 pour observer le résultat obtenu\n",
    "for k in range(1,20):\n",
    "    print(knn(93,188,k))"
   ]
  },
  {
   "cell_type": "markdown",
   "metadata": {},
   "source": [
    "On s'aperçoit que la prédiction est très stable... sauf si $k=1$ !  \n",
    "Il se trouve qu'un joueur possède **exactement** ces caractéristiques physiques (Pierre-Louis BARASSI) et qu'il joue Centre :"
   ]
  },
  {
   "cell_type": "code",
   "execution_count": null,
   "metadata": {},
   "outputs": [],
   "source": [
    "df['distance']=(df['Taille']-188)**2+(df['Poids']-93)**2\n",
    "newdf = df.sort_values(by='distance', ascending=True)\n",
    "newdf.head(10)"
   ]
  },
  {
   "cell_type": "markdown",
   "metadata": {},
   "source": [
    "On peut s'apercevoir aussi que jusqu'à $k=5$, aucun poste n'est majoritaire : la prédiction pourrait aussi bien renvoyer Centre, 3ème ligne, ou Arrière. Ce n'est que grâce à l'ordre alphabétique que la réponse renvoyée est «Ailier». Par contre, dès que $k \\geqslant 5$, le poste d'Ailier est bien majoritaire parmi les $k$ plus proches voisins."
   ]
  },
  {
   "cell_type": "markdown",
   "metadata": {},
   "source": [
    "### Conclusion : \n",
    "\n",
    "Que pouvez vous conclure sur l'influence du paramètre _k_ ?\n",
    "_répondre Q7 du forms_"
   ]
  },
  {
   "cell_type": "markdown",
   "metadata": {},
   "source": [
    "**Source :**\n",
    "\n",
    "-  @Credits : Comprendre le Machine Learning: L'algorithme du KNN : https://www.youtube.com/watch?v=9pvbEP1eyNY\n",
    "-  @Credits : gilles lassus, Lycée François Mauriac / Bordeaux\n",
    "-  @Crédits : Livre Prépabac 1ere, NSI spécialité"
   ]
  },
  {
   "cell_type": "code",
   "execution_count": null,
   "metadata": {},
   "outputs": [],
   "source": []
  }
 ],
 "metadata": {
  "colab": {
   "collapsed_sections": [],
   "name": "PROF_KNN.ipynb",
   "provenance": []
  },
  "kernelspec": {
   "display_name": "Python 3",
   "language": "python",
   "name": "python3"
  },
  "language_info": {
   "codemirror_mode": {
    "name": "ipython",
    "version": 3
   },
   "file_extension": ".py",
   "mimetype": "text/x-python",
   "name": "python",
   "nbconvert_exporter": "python",
   "pygments_lexer": "ipython3",
   "version": "3.7.6"
  },
  "toc": {
   "base_numbering": 1,
   "nav_menu": {},
   "number_sections": false,
   "sideBar": true,
   "skip_h1_title": false,
   "title_cell": "Table of Contents",
   "title_sidebar": "Contents",
   "toc_cell": false,
   "toc_position": {},
   "toc_section_display": true,
   "toc_window_display": false
  }
 },
 "nbformat": 4,
 "nbformat_minor": 1
}
