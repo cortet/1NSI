{
 "cells": [
  {
   "cell_type": "markdown",
   "metadata": {
    "colab_type": "text",
    "id": "emk6sw0OaVxc"
   },
   "source": [
    "# Le Choixpeau Magique"
   ]
  },
  {
   "cell_type": "markdown",
   "metadata": {},
   "source": [
    "Lien vers la documentation de la librairie PANDAS (en anglais) : https://pandas.pydata.org"
   ]
  },
  {
   "cell_type": "code",
   "execution_count": 1,
   "metadata": {
    "colab": {},
    "colab_type": "code",
    "id": "L9Yp-3USaVyY"
   },
   "outputs": [],
   "source": [
    "import pandas as pd #import du module pandas, abrégé classiquement par \"pd\""
   ]
  },
  {
   "cell_type": "markdown",
   "metadata": {},
   "source": [
    "## Partie II\n",
    "code d’une fonction distance qui prend deux élèves en paramètre et qui renvoie la distance entre ces 2 élèves. Ne pas oublier de préciser la documentation (docstring) et de donner au moins un test (assert)."
   ]
  },
  {
   "cell_type": "code",
   "execution_count": 26,
   "metadata": {},
   "outputs": [],
   "source": [
    "adrian = {\"nom\" : \"Adrian\", \"courage\":9,\"loyaute\":4,\"sagesse\":7,\"malice\":10,\"maison\":\"serpentard\"}\n",
    "hermione = {\"nom\" : \"Hermione\", \"courage\":8,\"loyaute\":6,\"sagesse\":6,\"malice\":6}\n",
    "\n",
    "def distance (E1,E2) :\n",
    "    \"\"\"\n",
    "    Parameters : prend en paramètres 2 élèves\n",
    "    ----------\n",
    "    E1 : Dictionnaire\n",
    "    E2 : Dictionnaire\n",
    "  Returns : renvoie la distance de Manhattan entre les 2 eleves\n",
    "    Type : int\n",
    "\n",
    "    \"\"\"\n",
    "    return abs(E1[\"courage\"]-E2[\"courage\"])+abs(E1[\"loyaute\"]-E2[\"loyaute\"])+abs(E1[\"sagesse\"]-E2[\"sagesse\"])+abs(E1[\"malice\"]-E2[\"malice\"])\n",
    "\n",
    "assert (distance(adrian,hermione)) == 8"
   ]
  },
  {
   "cell_type": "markdown",
   "metadata": {},
   "source": [
    "## Partie III : Charger le dataframe"
   ]
  },
  {
   "cell_type": "code",
   "execution_count": 5,
   "metadata": {},
   "outputs": [],
   "source": [
    "def charger_eleve(fichier) : \n",
    "    \"\"\"\n",
    "    permet de charger une liste d eleves d'un fichier CSV\n",
    "    Return  : dataframe\n",
    "    \"\"\"\n",
    "    return pd.read_csv(fichier, encoding = 'utf-8')\n",
    "\n",
    "poudlard = charger_eleve('choixpeauMagique.csv')"
   ]
  },
  {
   "cell_type": "markdown",
   "metadata": {},
   "source": [
    "1.\tQuel est le nom du premier élève ?"
   ]
  },
  {
   "cell_type": "code",
   "execution_count": 28,
   "metadata": {},
   "outputs": [
    {
     "data": {
      "text/plain": [
       "Nom            Adrian\n",
       "Courage             9\n",
       "Loyauté             4\n",
       "Sagesse             7\n",
       "Malice             10\n",
       "Maison     Serpentard\n",
       "Name: 0, dtype: object"
      ]
     },
     "execution_count": 28,
     "metadata": {},
     "output_type": "execute_result"
    }
   ],
   "source": [
    "poudlard.loc[0]"
   ]
  },
  {
   "cell_type": "markdown",
   "metadata": {},
   "source": [
    "2.\tIndiquer le nombre d’élèves par maison"
   ]
  },
  {
   "cell_type": "code",
   "execution_count": 29,
   "metadata": {
    "colab": {
     "base_uri": "https://localhost:8080/",
     "height": 206
    },
    "colab_type": "code",
    "id": "ffxCWRv-aV0m",
    "outputId": "09c59d55-73f2-4ddf-ed05-b2a0813cba8a"
   },
   "outputs": [
    {
     "data": {
      "text/plain": [
       "Gryffondor     17\n",
       "Serpentard     12\n",
       "Serdaigle      11\n",
       "Poufsouffle    10\n",
       "Name: Maison, dtype: int64"
      ]
     },
     "execution_count": 29,
     "metadata": {},
     "output_type": "execute_result"
    }
   ],
   "source": [
    "poudlard['Maison'].value_counts()"
   ]
  },
  {
   "cell_type": "markdown",
   "metadata": {},
   "source": [
    "3.\tQuel est la maison ayant le plus d’élève ? "
   ]
  },
  {
   "cell_type": "code",
   "execution_count": 30,
   "metadata": {
    "colab": {
     "base_uri": "https://localhost:8080/",
     "height": 206
    },
    "colab_type": "code",
    "id": "cnX7EHQxaV0w",
    "outputId": "57d91e89-eb49-4443-9d0c-5201f242831f"
   },
   "outputs": [
    {
     "data": {
      "text/plain": [
       "'Gryffondor'"
      ]
     },
     "execution_count": 30,
     "metadata": {},
     "output_type": "execute_result"
    }
   ],
   "source": [
    "poudlard['Maison'].describe().top"
   ]
  },
  {
   "cell_type": "markdown",
   "metadata": {},
   "source": [
    "## Partie III\n",
    "\n",
    "fonction maison majoritaire"
   ]
  },
  {
   "cell_type": "code",
   "execution_count": 33,
   "metadata": {},
   "outputs": [],
   "source": [
    "def majoritaire(data) :\n",
    "    return poudlard['Maison'].describe().top\n",
    "assert majoritaire(poudlard)== 'Gryffondor'"
   ]
  },
  {
   "cell_type": "markdown",
   "metadata": {},
   "source": [
    "## Partie IV : Sept plus proches voisins"
   ]
  },
  {
   "cell_type": "code",
   "execution_count": null,
   "metadata": {},
   "outputs": [],
   "source": [
    "Données :\n",
    "   Dataframe : liste des élèves déjà présent à Poudlard\n",
    "   Nouveau : un nouvel élève qui n’a pas encore de maison\n",
    "Résultat : Les 7 plus proches voisins\n",
    "Algorithme : \n",
    "   1. Ajouter une colonne au dataframe calculant la distance de Manhattan entre le nouveau et la ligne traitée\n",
    "   2. Trier le nouveau jeu de données sur la nouvelle distance\n",
    "   3. On conserve les 7 premières lignes"
   ]
  },
  {
   "cell_type": "code",
   "execution_count": 10,
   "metadata": {},
   "outputs": [],
   "source": [
    "def septPlusProches(cm,nouveau):\n",
    "  #On ajoute une nouvelle colonne distance à notre jeu de données pandas\n",
    "  #correspondant la la distance euclienne entre le nouveau et la ligne traitée\n",
    "  cm['distance']= abs(cm['Courage']-nouveau[\"courage\"])+abs(cm['Loyaute']-nouveau[\"loyaute\"])+abs(cm['Sagesse']-nouveau[\"sagesse\"])+abs(cm['Malice']-nouveau[\"malice\"])\n",
    "  # On trie le jeu de donnée sur cette nouvelle colonne\n",
    "  newcm = cm.sort_values(by='distance', ascending=True)\n",
    "  #On ne garde que les 7 premières lignes que l'on 'copie' dans un nouveau dataframe\n",
    "  newcmtri = newcm.head(7) #on prend les 7 eleves les plus proches\n",
    "  #On ne garde que le poste le plus fréquent sur ces 6 lignes\n",
    "  sol = newcmtri['Maison'].describe().top\n",
    "  return sol"
   ]
  },
  {
   "cell_type": "code",
   "execution_count": 11,
   "metadata": {},
   "outputs": [
    {
     "data": {
      "text/plain": [
       "'Gryffondor'"
      ]
     },
     "execution_count": 11,
     "metadata": {},
     "output_type": "execute_result"
    }
   ],
   "source": [
    "Harry = {\"nom\" : \"Harry\", \"courage\":10,\"loyaute\":9,\"sagesse\":6,\"malice\":3}\n",
    "septPlusProches(poudlard,Harry)"
   ]
  },
  {
   "cell_type": "code",
   "execution_count": null,
   "metadata": {},
   "outputs": [],
   "source": []
  }
 ],
 "metadata": {
  "colab": {
   "collapsed_sections": [
    "jflqx-tlaV36",
    "Gd9gCUTkaV4U",
    "cHgScf-caV4h",
    "DNYbEtZZaV5R"
   ],
   "name": "PROF_03_Pandas_eleves.ipynb",
   "provenance": []
  },
  "kernelspec": {
   "display_name": "Python 3",
   "language": "python",
   "name": "python3"
  },
  "language_info": {
   "codemirror_mode": {
    "name": "ipython",
    "version": 3
   },
   "file_extension": ".py",
   "mimetype": "text/x-python",
   "name": "python",
   "nbconvert_exporter": "python",
   "pygments_lexer": "ipython3",
   "version": "3.7.6"
  },
  "toc": {
   "base_numbering": 1,
   "nav_menu": {},
   "number_sections": false,
   "sideBar": true,
   "skip_h1_title": false,
   "title_cell": "Table of Contents",
   "title_sidebar": "Contents",
   "toc_cell": false,
   "toc_position": {},
   "toc_section_display": true,
   "toc_window_display": false
  }
 },
 "nbformat": 4,
 "nbformat_minor": 1
}
