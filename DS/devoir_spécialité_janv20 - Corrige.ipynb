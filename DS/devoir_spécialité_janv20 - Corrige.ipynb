{
 "cells": [
  {
   "cell_type": "markdown",
   "metadata": {},
   "source": [
    "# Devoir Spécialité n°1 - 24/01/2020 - Correction"
   ]
  },
  {
   "cell_type": "markdown",
   "metadata": {},
   "source": [
    "## Exercice 1\n",
    "Ecrire un code permettant d'afficher successivement toutes les valeurs de la liste `maliste`."
   ]
  },
  {
   "cell_type": "code",
   "execution_count": 1,
   "metadata": {},
   "outputs": [],
   "source": [
    "maliste = [3, 5, 13, 5, 9]"
   ]
  },
  {
   "cell_type": "code",
   "execution_count": null,
   "metadata": {},
   "outputs": [],
   "source": [
    "# créez votre code ici.\n",
    "for k in maliste :\n",
    "    print(k)"
   ]
  },
  {
   "cell_type": "code",
   "execution_count": null,
   "metadata": {},
   "outputs": [],
   "source": [
    "for i in range(len(maliste)):\n",
    "    print(maliste[i])"
   ]
  },
  {
   "cell_type": "code",
   "execution_count": null,
   "metadata": {},
   "outputs": [],
   "source": [
    "maliste = [4, 6, 3, 7, 2]\n",
    "maliste[5]"
   ]
  },
  {
   "cell_type": "markdown",
   "metadata": {},
   "source": [
    "##### Que signifie l'erreur ci-dessus ?  \n",
    "*réponse :*  \n",
    "l'élément `maliste[5]` **n'existe pas** car la liste n'a que 5 éléments, donc le dernier s'appelle `maliste[4]`. L'indice des éléments de la liste commence à 0 pour s'arrêter à len(maliste)-1\n"
   ]
  },
  {
   "cell_type": "markdown",
   "metadata": {},
   "source": [
    "## Exercice 2\n",
    "Ecrire un code affichant tous les nombres compris entre 100 et 1000 à la fois divisibles par 13 et par 17.\n",
    "\n",
    "**Rappel :** le critère de divisibilté est la valeur modulo le diviseur égal à 0."
   ]
  },
  {
   "cell_type": "code",
   "execution_count": 1,
   "metadata": {},
   "outputs": [
    {
     "name": "stdout",
     "output_type": "stream",
     "text": [
      "221\n",
      "442\n",
      "663\n",
      "884\n"
     ]
    }
   ],
   "source": [
    "for k in range(100,1001) :\n",
    "    if (k % 13 == 0) and (k % 17 == 0) :\n",
    "        print(k)"
   ]
  },
  {
   "cell_type": "markdown",
   "metadata": {},
   "source": [
    "## Exercice 3\n",
    "Écrire un code permettant de stocker dans une liste appelée `maliste` les mots issus de la liste `vrac` qui contiennent au moins une fois la lettre \"a\"."
   ]
  },
  {
   "cell_type": "code",
   "execution_count": 8,
   "metadata": {},
   "outputs": [],
   "source": [
    "vrac = [\"nécessaire\", \"avion\", \"imaginer\",\"obsessions\", \"voitures\", \"manière\", \"monde\", \"tondeuses\", \"pincée\", \"connue\",\n",
    "        \"beau\", \"cinéma\", \"nombre\", \"narrateur\", \"échec\", \"matière\", \"français\", \"salle\", \"pasteur\", \"amour\"]"
   ]
  },
  {
   "cell_type": "code",
   "execution_count": 9,
   "metadata": {},
   "outputs": [],
   "source": [
    "maliste = []\n",
    "for mot in vrac :\n",
    "    if \"a\" in mot :\n",
    "        maliste.append(mot)"
   ]
  },
  {
   "cell_type": "code",
   "execution_count": null,
   "metadata": {},
   "outputs": [],
   "source": [
    "maliste"
   ]
  },
  {
   "cell_type": "markdown",
   "metadata": {},
   "source": [
    "## Exercice 4\n",
    "Écrire une fonction `convert_fahrenheit(T)` qui convertit une température T de degrés Celsius en degrés Fahrenheit.\n",
    "On rappelle que la formule de conversion est 𝐹=1,8×𝐶+32 où 𝐶 représente la température en degré celsius.\n",
    "\n",
    "**Attention :**\n",
    "Vous veillerez à préciser les spécifications de votre fonction.<br />\n",
    "Vous donnerez également les tests que vous jugerez nécessaires sous forme d'assert."
   ]
  },
  {
   "cell_type": "code",
   "execution_count": 6,
   "metadata": {},
   "outputs": [],
   "source": [
    "# créez votre fonction ici.\n",
    "def convert_fahrenheit(T):\n",
    "    \"\"\"\n",
    "    Convertit une temperature de degré celsius\n",
    "    @param : T -> int : temperature exprimé en degré celsius\n",
    "    @return : int : temperature exprimé en fahrenheit\n",
    "    \"\"\"\n",
    "    return 1.8*T + 32"
   ]
  },
  {
   "cell_type": "code",
   "execution_count": null,
   "metadata": {},
   "outputs": [],
   "source": [
    "assert convert_fahrenheit(10)==50\n",
    "assert convert_fahrenheit(0)== 32\n",
    "assert convert_fahrenheit(-50)==-58"
   ]
  },
  {
   "cell_type": "markdown",
   "metadata": {},
   "source": [
    "## Exercice 5 : Recherche d'occurence par parcours\n"
   ]
  },
  {
   "cell_type": "markdown",
   "metadata": {},
   "source": [
    "Ecrire une fonction qui renvoie le nombre d'occurrences (nombre d'apparition) d'une valeur dans une liste passée en paramètre.\n",
    "\n",
    "La liste renverra ``-1`` si la valeur n'est pas dans la liste."
   ]
  },
  {
   "cell_type": "code",
   "execution_count": 7,
   "metadata": {},
   "outputs": [],
   "source": [
    "def trouver_occurence(liste, val):\n",
    "    \"\"\"\n",
    "    renvoie le nombre d'occurrences d'une valeur donnée dans une liste, \n",
    "    et -1 si la valeur n'est pas présente dans la liste\n",
    "    @paramètre d'entrée : liste --> de type liste : liste de valeurs à trouver\n",
    "                          val --> type valeur : valeur à trouver dans la liste\n",
    "    @paramètre de sortie : entier correspondant au nombre d'occurrences trouvées, -1 sinon\n",
    "    \"\"\"\n",
    "    for indice in range(len(liste)):\n",
    "        if liste[indice] == val:\n",
    "            return indice\n",
    "    return -1"
   ]
  },
  {
   "cell_type": "code",
   "execution_count": 8,
   "metadata": {},
   "outputs": [],
   "source": [
    "T = [1, 5, 7, 2, 8, 8, 9, 1, 3, 6, 0, -3, -7, 8, 4]\n",
    "assert(trouver_occurence(T, 4) == 14)\n",
    "assert(trouver_occurence(T, 1) == 0)\n",
    "assert(trouver_occurence(T, 8) == 4)\n",
    "assert(trouver_occurence(T, 6) == 9)\n",
    "assert(trouver_occurence(T, 10) == -1)\n",
    "assert(trouver_occurence([], 10) == -1)"
   ]
  }
 ],
 "metadata": {
  "kernelspec": {
   "display_name": "Python 3",
   "language": "python",
   "name": "python3"
  },
  "language_info": {
   "codemirror_mode": {
    "name": "ipython",
    "version": 3
   },
   "file_extension": ".py",
   "mimetype": "text/x-python",
   "name": "python",
   "nbconvert_exporter": "python",
   "pygments_lexer": "ipython3",
   "version": "3.8.3"
  },
  "toc": {
   "base_numbering": 1,
   "nav_menu": {},
   "number_sections": true,
   "sideBar": true,
   "skip_h1_title": false,
   "title_cell": "Table of Contents",
   "title_sidebar": "Contents",
   "toc_cell": false,
   "toc_position": {},
   "toc_section_display": true,
   "toc_window_display": false
  }
 },
 "nbformat": 4,
 "nbformat_minor": 2
}
