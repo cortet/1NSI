{
 "cells": [
  {
   "cell_type": "markdown",
   "metadata": {},
   "source": [
    "## Fichiers CSV et OpenData"
   ]
  },
  {
   "cell_type": "markdown",
   "metadata": {},
   "source": [
    "**Source :** [David Roche](https://pixees.fr/informatiquelycee/n_site/nsi_prem_csv.html) (copyright : CC-BY-SA)"
   ]
  },
  {
   "cell_type": "markdown",
   "metadata": {},
   "source": [
    "On trouve énormément de données sur internet. Une partie de ces données sont publiques, par exemple le site [data.gouv.fr](http://data.gouv.fr) récence un grand nombre de données publiques. Ces données sont librement réutilisables. "
   ]
  },
  {
   "cell_type": "markdown",
   "metadata": {},
   "source": [
    "> **À faire :** Afin de découvrir ce qu'est \"l'open data\", nous allons utiliser le site [data.gouv.fr](data.gouv.fr). Résumez en quelques lignes ce que vous aurez appris en lisant la page suivante : https://doc.data.gouv.fr/."
   ]
  },
  {
   "cell_type": "markdown",
   "metadata": {},
   "source": [
    "> **À faire :** Explorez pendant quelques minutes le site data.gouv.fr. Recherchez les données \"Opérations coordonnées par les CROSS\" à l'aide du moteur de recherche proposé par le site. \n",
    "\n",
    "Vous pouvez constater que ces données sont au format CSV."
   ]
  },
  {
   "cell_type": "markdown",
   "metadata": {},
   "source": [
    "Le format CSV est très courant sur internet.\n",
    "\n",
    "Voici ce que nous dit Wikipédia sur le format CSV :\n",
    "\n",
    "_Comma-separated values, connu sous le sigle CSV, est un format informatique ouvert représentant des données tabulaires sous forme de valeurs séparées par des virgules._\n",
    "\n",
    "_Un fichier CSV est un fichier texte, par opposition aux formats dits « binaires ». Chaque ligne du texte correspond à une ligne du tableau et les virgules correspondent aux séparations entre les colonnes. Les portions de texte séparées par une virgule correspondent ainsi aux contenus des cellules du tableau._\n",
    "\n",
    "Voici un exemple du contenu d'un fichier CSV :"
   ]
  },
  {
   "cell_type": "raw",
   "metadata": {},
   "source": [
    "nom,prenom,date_naissance\n",
    "Durand,Jean-Pierre,23/05/1985\n",
    "Dupont,Christophe,15/12/1967\n",
    "Terta,Henry,12/06/1978"
   ]
  },
  {
   "cell_type": "markdown",
   "metadata": {},
   "source": [
    "Je pense qu'il est évident pour vous que nous avons ici 3 personnes :\n",
    "\n",
    "* Jean-Pierre Durand qui est né le 23/05/1985\n",
    "* Christophe Dupont qui est né le 15/12/1967\n",
    "* Henry Terta qui est né le 12/06/1978\n",
    "\n",
    "\"nom\", \"prenom\" et \"date_naissance\" sont appelés des descripteurs alors que, par exemple, \"Durand\", \"Dupont\" et \"Terta\" sont les valeurs du descripteur \"nom\". "
   ]
  },
  {
   "cell_type": "markdown",
   "metadata": {},
   "source": [
    "> **À faire :** Donnez les différentes valeurs du descripteur \"date_naissance\" "
   ]
  },
  {
   "cell_type": "markdown",
   "metadata": {},
   "source": [
    "ATTENTION :\n",
    "\n",
    "La virgule est un standard pour les données anglo-saxonnes, mais pas pour les données aux normes françaises. En effet, en français, la virgule est le séparateur des chiffres décimaux. Il serait impossible de différencier les virgules des décimaux et les virgules de séparation des informations. C’est pourquoi on utilise un autre séparateur : le point-virgule (;). Dans certains cas cela peut engendrer quelques problèmes, vous devrez donc rester vigilants sur le type de séparateur utilisé.\n",
    "\n",
    "Les tableurs, tels que \"Calc\" (Libre Office), sont normalement capables de lire les fichiers au format CSV. J'ai précisé \"normalement\" car certains tableurs gèrent mal le séparateur CSV \"point-virgule\" et le séparateur des chiffres décimaux \"virgule\"."
   ]
  },
  {
   "cell_type": "markdown",
   "metadata": {},
   "source": [
    "> **À faire :**  Après avoir téléchargé le fichier [ident_pointVirgule.csv](https://pixees.fr/informatiquelycee/n_site/asset/ident_pointVirgule.csv), ouvrez ce dernier à l'aide d'un tableur. \n",
    "\n",
    "Si par hasard votre tableur ne gère pas correctement le fichier avec le séparateur \"point-virgule\", voici une version \"séparateur virgule\" du fichier : [ident_virgule.csv](https://pixees.fr/informatiquelycee/n_site/asset/ident_virgule.csv)\n",
    "\n",
    "Dans la suite, gardez toujours cet éventuel problème à l'esprit (surtout avec des données \"made in France\")\n"
   ]
  },
  {
   "cell_type": "markdown",
   "metadata": {},
   "source": [
    "Vous devriez obtenir ceci :\n",
    "![image tableur](https://pixees.fr/informatiquelycee/n_site/img/snt_donnee_1.png)"
   ]
  },
  {
   "cell_type": "markdown",
   "metadata": {},
   "source": [
    "Vous pouvez constater que les données sont bien \"rangées\" dans un tableau avec des lignes et des colonnes (voilà pourquoi on parle de données tabulaires.\n",
    "\n",
    "Il est possible de trouver sur le web des données beaucoup plus intéressantes à traiter que celles contenues dans le fichier \"ident_pointVirgule.csv\" (ou \"ident_virgule.csv\"). Par exemple, le site [sql.sh](sql.sh), propose un fichier csv contenant des informations sur l'ensemble des communes françaises."
   ]
  },
  {
   "cell_type": "markdown",
   "metadata": {},
   "source": [
    "> **À faire :** Ouvrez le fichier [ville_point_virgule.csv](https://pixees.fr/informatiquelycee/n_site/asset/villes_point_virgule.csv) à l'aide d'un tableur (c’est une version légèrement modifiée de celle disponible sur le site sql.sh, il y a été notamment ajouté des entêtes). En cas de problème avec votre tableur, voici une version \"séparateur virgule\" : [ville_virgule.csv](https://pixees.fr/informatiquelycee/n_site/asset/villes_virgule.csv) (attention le séparateur \"décimal\" est ici le point)\n"
   ]
  },
  {
   "cell_type": "markdown",
   "metadata": {},
   "source": [
    "Comme vous pouvez le constater, nous avons 12 colonnes (et 36700 lignes si on ne compte pas l'entête !), voici la signification de ces colonnes :\n",
    "\n",
    "* dep : numéro de département\n",
    "* nom : nom de la commune\n",
    "* cp : code postal\n",
    "* nb_hab_2010 : nombre d'habitants en 2010\n",
    "* nb_hab_1999 : nombre d'habitants en 1999\n",
    "* nb_hab_2012 : nombre d'habitants en 2012 (approximatif)\n",
    "* dens : densité de la population (habitants par kilomètre carré)\n",
    "* surf : superficie de la commune en kilomètre carré\n",
    "* long : longitude\n",
    "* lat : latitude\n",
    "* alt_min : altitude minimale de la commune (il manque des données pour certains territoires d'outre-mer)\n",
    "* alt_max : altitude maximale de la commune (il manque des données pour certains territoires d'outre-mer)\n"
   ]
  },
  {
   "cell_type": "markdown",
   "metadata": {},
   "source": [
    "> **À faire :** En vous aidant du fichier, déterminez l'altitude maximale et l'altitude minimale de votre commune."
   ]
  },
  {
   "cell_type": "markdown",
   "metadata": {},
   "source": [
    " ### En Bref"
   ]
  },
  {
   "cell_type": "markdown",
   "metadata": {},
   "source": [
    "Le format  CSV est couramment  utilisé pour échanger des  données habituellement\n",
    "traitées  à   l'aide  de  tableurs   ou  de   logiciels  de  bases   de  données\n",
    "principalement.  Nous allons  apprendre à  importer et  exporter des  données en\n",
    "utilisant ce format."
   ]
  },
  {
   "cell_type": "markdown",
   "metadata": {},
   "source": [
    "# Manipulation de fichiers CSV"
   ]
  },
  {
   "cell_type": "markdown",
   "metadata": {},
   "source": [
    "Un enregistrement CSV peut se rapprocher d'une structure de données de type ``Dictionnaire`` auxquelles on accède grâce à une clé.\n",
    "\n",
    "Par  exemple,  on  peut  représenter  les  notes  d'un  élève  dans  différentes disciplines à l'aide d'un enregistrement: "
   ]
  },
  {
   "cell_type": "code",
   "execution_count": 2,
   "metadata": {},
   "outputs": [],
   "source": [
    "dico_eleve= {'Nom': 'Joe', 'Anglais': 17, 'Info': 18, 'Maths': 16}"
   ]
  },
  {
   "cell_type": "code",
   "execution_count": 3,
   "metadata": {},
   "outputs": [
    {
     "name": "stdout",
     "output_type": "stream",
     "text": [
      "{'Nom': 'Joe', 'Anglais': 17, 'Info': 18, 'Maths': 16}\n"
     ]
    }
   ],
   "source": [
    "print(dico_eleve)"
   ]
  },
  {
   "cell_type": "markdown",
   "metadata": {},
   "source": [
    "Les *champs* (ou  *clés* ou *attributs*) de ces enregistrements  sont ici `Nom`,\n",
    "`Anglais`, `Info`  et `Maths`. On leur  associe des *valeurs*, ici  `Joe`, `17`,\n",
    "`18` et `16`.\n",
    "En Python, on utilisera les ``dictionnaires`` pour représenter les enregistrements."
   ]
  },
  {
   "cell_type": "markdown",
   "metadata": {},
   "source": [
    "![](Image1.png)"
   ]
  },
  {
   "cell_type": "markdown",
   "metadata": {},
   "source": [
    "Le fichier CSV correspondant étant:"
   ]
  },
  {
   "cell_type": "raw",
   "metadata": {},
   "source": [
    "Nom,Anglais,Info,Maths\n",
    "Joe,17,18,16\n",
    "Zoe,15,17,19\n",
    "Max,19,13,14"
   ]
  },
  {
   "cell_type": "markdown",
   "metadata": {},
   "source": [
    "### Lecture de fichiers CSV"
   ]
  },
  {
   "cell_type": "markdown",
   "metadata": {},
   "source": [
    "On  peut   choisir  de  représenter  sur   Python  les  fichiers  CSV   par  des *listes* de *dictionnaires*  dont les *clés* seront les noms  des colonnes.\n",
    "\n",
    "Pour reprendre l'exemple précédent, si l'on import à l'aide des outils Python le fichier CSV elev, on obtient une structure de données comme la liste ci dessous :"
   ]
  },
  {
   "cell_type": "code",
   "execution_count": 7,
   "metadata": {},
   "outputs": [],
   "source": [
    "Liste = [{'Nom': 'Joe', 'Anglais': 17, 'Info': 18, 'Maths': 16},\n",
    "         {'Nom': 'Zoé', 'Anglais': 15, 'Info': 17, 'Maths': 19},\n",
    "         {'Nom': 'Max', 'Anglais': 19, 'Info': 13, 'Maths': 14}]"
   ]
  },
  {
   "cell_type": "markdown",
   "metadata": {},
   "source": [
    "Ici, ``Liste`` est une **liste de dictionnaire**."
   ]
  },
  {
   "cell_type": "markdown",
   "metadata": {},
   "source": [
    "## Note :\n",
    "En utilisant le vocabulaire habituel décrivant une feuille de calcul d'un tableur:\n",
    "* une table est une liste de dictionnaires: `liste`;\n",
    "* une ligne est un dictionnaire: `liste[0]`\n",
    "* une cellule est une valeur associée à une clé d'un dictionnaire: `liste[0]['Info']`"
   ]
  },
  {
   "cell_type": "markdown",
   "metadata": {},
   "source": [
    "Voici des propositions de code Python gérant l'import et l'export de fichiers CSV:"
   ]
  },
  {
   "cell_type": "markdown",
   "metadata": {},
   "source": [
    "### Import d'un fichier CSV"
   ]
  },
  {
   "cell_type": "code",
   "execution_count": null,
   "metadata": {},
   "outputs": [],
   "source": [
    "import csv\n",
    "def depuis_csv(nom_fichier_csv):\n",
    "    \"\"\"\n",
    "    Crée une liste de dictionnaires, un par ligne.\n",
    "    La 1ère ligne du fichier csv est considérée comme la ligne des noms des champs\n",
    "    \"\"\"\n",
    "    lecteur = csv.DictReader(open(nom_fichier_csv,'r')) \n",
    "    return [dict(ligne) for ligne in lecteur]"
   ]
  },
  {
   "cell_type": "markdown",
   "metadata": {},
   "source": [
    "### Export vers un fichier CSV"
   ]
  },
  {
   "cell_type": "code",
   "execution_count": null,
   "metadata": {},
   "outputs": [],
   "source": [
    "import csv\n",
    "def vers_csv(nom_table, ordre_cols):\n",
    "    \"\"\"\n",
    "    Exporte une liste de dictionnaires sous forme d'un\n",
    "    fichier csv. On rentre le nom de la table sous forme de chaîne.\n",
    "    On donne l'ordre des colonnes sous la forme d'une liste d'attributs.\n",
    "    >>> vers_csv('Groupe1', ordre_cols=['Nom','Anglais','Info','Maths'])\n",
    "    \"\"\"\n",
    "    with open(nom_table + '.csv', 'w') as fic_csv:\n",
    "        ecrit = csv.DictWriter(fic_csv, fieldnames=ordre_cols)\n",
    "        table = eval(nom_table)\n",
    "        ecrit.writeheader() # pour le 1ère ligne\n",
    "        for ligne in table:\n",
    "            ecrit.writerow(ligne) # lignes ajoutées 1 à 1\n",
    "    return None"
   ]
  },
  {
   "cell_type": "markdown",
   "metadata": {},
   "source": [
    "> **A faire :**\n",
    "* Créer un fichier CSV eleve.csv contenant les \n",
    "* Compléter le code de la fonction lire_note dans le fichier python eleve.py fourni en complément de ce cours.\n",
    "\n",
    "Attention, les assertions fournies dans le fichier eleve.py doivent se dérouler sans erreur."
   ]
  },
  {
   "cell_type": "code",
   "execution_count": null,
   "metadata": {},
   "outputs": [],
   "source": [
    "def lire_note(liste_dico, nom, matiere):\n",
    "    \"\"\"\n",
    "    fonction qui prend un nom d'élève et une matière en paramètre et retourne la note obtenue par l'élève\n",
    "    @param entrée : liste_dico : liste de dictionnaire : contenant de l'information\n",
    "                    nom : chaine de caractère : nom de l'éleve à rechercher\n",
    "                    matiere : chaine de caractère : nom de la matière à rechercher\n",
    "    Returns int : note obtenue\n",
    "    \"\"\""
   ]
  }
 ],
 "metadata": {
  "kernelspec": {
   "display_name": "Python 3",
   "language": "python",
   "name": "python3"
  },
  "language_info": {
   "codemirror_mode": {
    "name": "ipython",
    "version": 3
   },
   "file_extension": ".py",
   "mimetype": "text/x-python",
   "name": "python",
   "nbconvert_exporter": "python",
   "pygments_lexer": "ipython3",
   "version": "3.8.3"
  }
 },
 "nbformat": 4,
 "nbformat_minor": 2
}
