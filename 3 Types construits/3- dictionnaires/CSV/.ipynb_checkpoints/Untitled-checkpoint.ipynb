{
 "cells": [
  {
   "cell_type": "markdown",
   "metadata": {},
   "source": [
    "## Manipulation de fichiers CSV"
   ]
  },
  {
   "cell_type": "markdown",
   "metadata": {},
   "source": [
    " ### En Bref"
   ]
  },
  {
   "cell_type": "markdown",
   "metadata": {},
   "source": [
    "Le format  CSV est couramment  utilisé pour échanger des  données habituellement\n",
    "traitées  à   l'aide  de  tableurs   ou  de   logiciels  de  bases   de  données\n",
    "principalement.  Nous allons  apprendre à  importer et  exporter des  données en\n",
    "utilisant ce format."
   ]
  },
  {
   "cell_type": "markdown",
   "metadata": {},
   "source": [
    "### Enregistrements"
   ]
  },
  {
   "cell_type": "markdown",
   "metadata": {},
   "source": [
    "Un enregistrement est une structure de données de types éventuellement différents auxquelles on accède grâce à un nom.\n",
    "\n",
    "Par  exemple,  on  peut  représenter  les  notes  d'un  élève  dans  différentes disciplines à l'aide d'un enregistrement: "
   ]
  },
  {
   "cell_type": "code",
   "execution_count": null,
   "metadata": {},
   "outputs": [],
   "source": [
    "{'Nom': 'Joe', 'Anglais': 17, 'Info': 18, 'Maths': 16}"
   ]
  },
  {
   "cell_type": "markdown",
   "metadata": {},
   "source": [
    "Les *champs* (ou  *clés* ou *attributs*) de ces enregistrements  sont ici `Nom`,\n",
    "`Anglais`, `Info`  et `Maths`. On leur  associe des *valeurs*, ici  `Joe`, `17`,\n",
    "`18` et `16`.\n",
    "En Python, on utilisera les *dictionnaires* pour représenter les enregistrements."
   ]
  },
  {
   "cell_type": "markdown",
   "metadata": {},
   "source": [
    "### Fichiers CSV "
   ]
  },
  {
   "cell_type": "markdown",
   "metadata": {},
   "source": [
    "Le format CSV (*Comma Separated Value*)  est couramment utilisé pour importer ou exporter des  données d'une  feuille de  calcul d'un  tableur. C'est  un fichier **texte** dans lequel  chaque ligne correspond à une ligne  du tableau, les colonnes étant séparées  par des virgules.  Il permet  donc de représenter  une liste d'enregistrements ayant les mêmes champs."
   ]
  },
  {
   "cell_type": "markdown",
   "metadata": {},
   "source": [
    "<font color=red>[Histoire]</font>: Ce  format est  né bien  avant  les ordinateurs  personnels et  le format  `xls` puisque c'est en 1972 qu'il a été introduit."
   ]
  },
  {
   "cell_type": "markdown",
   "metadata": {},
   "source": [
    "Pour éviter les problèmes dus à l'absence de standardisation du séparateur décimal (virgule en France, point ailleurs), mieux vaut paramétrer son tableur pour utiliser le point (français suisse par exemple).\n",
    "Voici un exemple de feuille de calcul:"
   ]
  },
  {
   "cell_type": "markdown",
   "metadata": {},
   "source": [
    "![](Image1.png)"
   ]
  },
  {
   "cell_type": "markdown",
   "metadata": {},
   "source": [
    "Le fichier CSV correspondant étant:"
   ]
  },
  {
   "cell_type": "raw",
   "metadata": {},
   "source": [
    "'Nom','Anglais','Info','Maths'\n",
    "'Joe','17','18','16'\n",
    "'Zoé','15','17','19'\n",
    "'Max','19','13','14'"
   ]
  },
  {
   "cell_type": "markdown",
   "metadata": {},
   "source": [
    "### Lecture de fichiers CSV"
   ]
  },
  {
   "cell_type": "markdown",
   "metadata": {},
   "source": [
    "On  peut   choisir  de  représenter  sur   Python  les  fichiers  CSV   par  des *listes* de *dictionnaires*  dont les *clés* seront les noms  des colonnes.\n",
    "\n",
    "Pour reprendre l'exemple précédent, on obtient:"
   ]
  },
  {
   "cell_type": "code",
   "execution_count": 7,
   "metadata": {},
   "outputs": [],
   "source": [
    "Liste = [{'Nom': 'Joe', 'Anglais': 17, 'Info': 18, 'Maths': 16},\n",
    "         {'Nom': 'Zoé', 'Anglais': 15, 'Info': 17, 'Maths': 19},\n",
    "         {'Nom': 'Max', 'Anglais': 19, 'Info': 13, 'Maths': 14}]"
   ]
  },
  {
   "cell_type": "markdown",
   "metadata": {},
   "source": [
    "*[Note]*\n",
    "En utilisant le vocabulaire habituel décrivant une feuille de calcul d'un tableur:\n",
    "* une table est une liste de dictionnaires: `liste`;\n",
    "* une ligne est un dictionnaire: `liste[0]`\n",
    "* une cellule est une valeur associée à une clé d'un dictionnaire: `liste[0]['Info']`"
   ]
  },
  {
   "cell_type": "markdown",
   "metadata": {},
   "source": [
    "Voici des propositions d'import/expot de fichiers CSV:"
   ]
  },
  {
   "cell_type": "markdown",
   "metadata": {},
   "source": [
    "### Import d'un fichier CSV"
   ]
  },
  {
   "cell_type": "code",
   "execution_count": null,
   "metadata": {},
   "outputs": [],
   "source": [
    "import csv\n",
    "def depuis_csv(nom_fichier_csv):\n",
    "    \"\"\"\n",
    "    Crée une liste de dictionnaires, un par ligne.\n",
    "    La 1ère ligne du fichier csv est considérée comme la ligne des noms des champs\n",
    "    \"\"\"\n",
    "    lecteur = csv.DictReader(open(nom_fichier_csv,'r')) \n",
    "    return [dict(ligne) for ligne in lecteur]"
   ]
  },
  {
   "cell_type": "markdown",
   "metadata": {},
   "source": [
    "### Export vers un fichier CSV"
   ]
  },
  {
   "cell_type": "code",
   "execution_count": null,
   "metadata": {},
   "outputs": [],
   "source": [
    "import csv\n",
    "def vers_csv(nom_table, ordre_cols):\n",
    "    \"\"\"\n",
    "    Exporte une liste de dictionnaires sous forme d'un\n",
    "    fichier csv. On rentre le nom de la table sous forme de chaîne.\n",
    "    On donne l'ordre des colonnes sous la forme d'une liste d'attributs.\n",
    "    >>> vers_csv('Groupe1', ordre_cols=['Nom','Anglais','Info','Maths'])\n",
    "    \"\"\"\n",
    "    with open(nom_table + '.csv', 'w') as fic_csv:\n",
    "        ecrit = csv.DictWriter(fic_csv, fieldnames=ordre_cols)\n",
    "        table = eval(nom_table)\n",
    "        ecrit.writeheader() # pour le 1ère ligne\n",
    "        for ligne in table:\n",
    "            ecrit.writerow(ligne) # lignes ajoutées 1 à 1\n",
    "    return None"
   ]
  },
  {
   "cell_type": "code",
   "execution_count": null,
   "metadata": {},
   "outputs": [],
   "source": []
  }
 ],
 "metadata": {
  "kernelspec": {
   "display_name": "Python 3",
   "language": "python",
   "name": "python3"
  },
  "language_info": {
   "codemirror_mode": {
    "name": "ipython",
    "version": 3
   },
   "file_extension": ".py",
   "mimetype": "text/x-python",
   "name": "python",
   "nbconvert_exporter": "python",
   "pygments_lexer": "ipython3",
   "version": "3.7.3"
  }
 },
 "nbformat": 4,
 "nbformat_minor": 2
}
