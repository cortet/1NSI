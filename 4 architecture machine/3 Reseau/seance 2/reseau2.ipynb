{
 "cells": [
  {
   "cell_type": "markdown",
   "metadata": {},
   "source": [
    "# Un peu d'histoire ..."
   ]
  },
  {
   "cell_type": "markdown",
   "metadata": {},
   "source": [
    "Source : https://pixees.fr/informatiquelycee/n_site/nsi_prem_tcpip.html\n",
    "\n",
    "La DARPA (Defense Advanced Research Projects Agency) voit le jour en 1958, cette agence gouvernementale américaine a pour but de veiller à la constante suprématie des États unis en matière technologique et scientifique. \n",
    "\n",
    "En 1962 la DARPA soutient le projet du professeur Licklider qui a pour but de mettre en réseau les ordinateurs des universités américaines afin que ces dernières puissent échanger des informations plus rapidement (même à des milliers de kilomètres de distance). \n",
    "\n",
    "En 1968, ARPAnet, 1er réseau informatique à grande échelle de l'histoire voit le jour. Le 29 octobre 1969, le 1er message (le mot \"login\") est envoyé depuis l'université de Californie à Los Angeles vers l'université de Stanford via le réseau ARPAnet (les 2 universités sont environ distantes de 500 Km). C'est un demi-succès, puisque seules les lettres \"l\" et \"o\" arriveront à bon port. \n",
    "\n",
    "En 1972, 23 ordinateurs sont connectés à ARPAnet (on trouve même des ordinateurs en dehors des États unis). En parallèle au projet ARPAnet, d'autres réseaux voient le jour, problème, ils utilisent des protocoles de communication hétéroclite (UUCP, NCP ou encore X.25) et 2 ordinateurs appartenant à 2 réseaux différents sont incapables de communiquer entre eux puisqu'ils n'utilisent les mêmes protocoles. \n",
    "\n",
    "En 1974 Vint Cerf et Bob Khan vont mettre au point le protocole TCP qui sera très rapidement couplé au protocole IP pour donner TCP/IP. TCP/IP, grâce à sa simplicité, va très rapidement s'imposer comme un standard : les différents réseaux (ARPAnet et les autres) vont adopter TCP/IP. Cette adoption va permettre d'interconnecter tous ces réseaux (2 machines appartenant à 2 réseaux différents vont pouvoir communiquer grâce à cette interconnexion). \n",
    "\n",
    "Internet était né (le terme Internet vient de \"internetting\" qui signifie \"Connexion entre plusieurs réseaux\"). TCP/IP est donc au coeur d'Internet, voilà pourquoi aujourd'hui, la plupart des machines utilisent TCP/IP. \n",
    "\n",
    "Et une petite vidéo pour résumé tout ça : https://www.youtube.com/watch?v=GTP4vDelF_g\n"
   ]
  },
  {
   "cell_type": "markdown",
   "metadata": {},
   "source": [
    "# Transmission de données dans un réseau"
   ]
  },
  {
   "cell_type": "markdown",
   "metadata": {},
   "source": [
    "## Petit message de prévention : \n",
    "Dans le merveilleux monde des réseaux en informatiques, il est facile de se perdre sur les routes de l'information ;-)\n",
    "L'objectif de ce cours est l'encapsulation des données et la description d'un protocole de routage, ici TCP/IP.\n",
    "Il est difficile de ne pas aborder le sujet du routage de l'information (DNS, routage, ...). \n",
    "Mais je vais essayer de m'y tenir et de faire en sorte que le cours ait toujours du sens. \n",
    "Le routage est au programme de Terminale. Donc suite au prochain numéro ..."
   ]
  },
  {
   "cell_type": "markdown",
   "metadata": {},
   "source": [
    "## Petit message de prévention (2) :\n",
    "Il y a ici beaucoup de lecture pour commencer. En cours, je vous aurait fait faire une activité \"débranchée\". Dans les conditions actuelles, je n'ai guère le choix que de vous faire lire. J'ai essayé de condenser au maximum.\n",
    "Vous pourrez manipuler avec FILIUS à la suite du cours."
   ]
  },
  {
   "cell_type": "markdown",
   "metadata": {},
   "source": [
    "## Principes de base des protocoles TCP (Transmission Control Protocol) et IP (Internet Protocol) "
   ]
  },
  {
   "cell_type": "markdown",
   "metadata": {},
   "source": [
    "Quand un ordinateur souhaite transmettre des données à un autre, il suit les étapes suivantes :\n",
    "1. Les données sont transmises au système d'exploitation à l'aide d'une application\n",
    "2. Celui-ci les coupe en plusieurs paquets, les numérote, et les transmet à la carte réseau\n",
    "3. Celle-ci les envoie sur le réseau\n",
    "4. La carte réseau de l'ordinateur destinataire reçoit les paquets transmis, et les envoie au système d'exploitation\n",
    "5. Le système d'exploitation (SE) reconstitue le message et le transmet à l'application de destination.\n",
    "\n",
    "C'est ce que l'on appelle le _modèle en couche_.\n",
    "\n",
    "Le modèle OSI (_Open Systems Interconnection_) contient 7 couches et le TCP/IP en contient 4 :\n",
    "\n",
    "![](data2/OSI_TCP.png)"
   ]
  },
  {
   "cell_type": "markdown",
   "metadata": {},
   "source": [
    "## Encapsulation des données"
   ]
  },
  {
   "cell_type": "markdown",
   "metadata": {},
   "source": [
    "Lorsqu'elles passent par une couche, les données sont \"complétées\" par une entête spécifique à la couche traversée. C'est ce que l'on appelle l'_encapsulation_.\n",
    "\n",
    "_Exemple_ : En suivant le protocole TCP/IP, lorsqu'un paquet passe par la carte réseau, l'entête adjointe contient l'adresse MAC ( _Medium Access Control_ ), une suite de 6 nombres exprimés en hexadécimal, comme 4C-BB-58-BC-45-49.\n",
    "\n",
    "A la réception des paquets, les entêtes sont enlevés : on appelle la _décapsulation_\n",
    "\n",
    "![](data2/encapsulation.gif)"
   ]
  },
  {
   "cell_type": "markdown",
   "metadata": {},
   "source": [
    "# Protocole du bit alterné"
   ]
  },
  {
   "cell_type": "markdown",
   "metadata": {},
   "source": [
    "> **À faire :** Commencer par visionner la vidéo suivante : \n",
    "[![video Nathan Le Bit alternée]](data2\\bit_alterne.mov)"
   ]
  },
  {
   "cell_type": "markdown",
   "metadata": {},
   "source": [
    "Le protocole du bit alterné ( _alternating bit protocol_ ) fait partie de la couche transport (4eme couche du modèle OSI et 3eme couche du modèle TCP/IP). Il permet de transférer des données entre deux entités pour lesquelles une connexion bi-directionlle a été établie, de façon à ce qu'il y ait pas d'erreur dans la transmission.\n",
    "\n",
    "Appelons (T) la première entité, celle qui transmet les données à la seconde entité, que l'on va noter (R) comme _Réceptrice (receiver)_.\n",
    "\n",
    "Dans l'idéal, c'est à dire quand tout se passe bien, le protocol de bit alterné fait que (T) envoie un message à (R) et à la réception de ce message, (R) renvoie un _acquittement_ à (T) ( _acknowledgement ou ACK_ ).\n",
    "\n",
    "![source schoolmoov](data2/1-fnx-nsi-c08-img05.png)\n",
    "\n",
    "Mais il se peut que la liaison entre (T) et (R) ne soit pas fiable. Il est donc possible que certains messages ou certains acquittements se perdent.\n",
    "\n",
    "Afin de voir s'il y a des pertes, le protocole stipule que :\n",
    "- Chaque message et chaque acquittement correspondant contiennent un même bit de contrôle. Par exemple, le premier message contient le bit de contrôle \"0\", et son ACK contient aussi \"0\".\n",
    "- Deux messages successifs contiennent des bits différents (la valeur du bit de contrôle alterne à chaque message)\n",
    "\n",
    "![source schoolmoov](data2/1-fnx-nsi-c08-img07.png)\n",
    "\n",
    "Si l'entité (T) reçoit une indication de perte d'acquittement (on la note NACK0 ou NACK1) suivant le bit de contrôle) ou un acquittement avec un bit de contrôle erroné (noté ACK0 et ACK1), elle émet à nouveau le dernier message envoyé.\n",
    "\n",
    "Si l'entité (R) reçoit une indication de perte de message ou un message avec un bit de contrôle erroné, elle émet à nouveau le dernier acquittement envoyé.\n",
    "\n",
    "Pour chaque message envoyé, un délai de vérification doit être respecté."
   ]
  },
  {
   "cell_type": "markdown",
   "metadata": {},
   "source": [
    "# Architecture d'un réseau"
   ]
  },
  {
   "cell_type": "markdown",
   "metadata": {},
   "source": [
    "Il existe 4 catégories de réseaux : \n",
    "\n",
    "   - **PAN**: Personal Area Network, qui relie les machine sur quelques mètres.\n",
    "   - **LAN**: Local Aréa Network\n",
    "   - **MAN**: Metropolitan Area Network (ville)\n",
    "   - **Wan**: Wide Aréa Network (pays/continents)\n",
    "\n",
    "Regarder la vidéo suivante pour illustrer ce qui va suivre (Attention s'arrêter à 3 minutes 50. Le reste est au programme de Terminale).\n",
    "\n",
    "[![video Structuration en réseau](data2/video_resau.PNG)](https://www.youtube.com/watch?v=NMY-N6kl6CI)\n",
    "\n",
    "Il existe 3 topologies pour réseau en LAN.\n",
    "\n",
    "Note : la topologie de réseau est l'étude des différents types de réseaux informatiques.\n",
    "\n",
    "![Topologie des réseaux](data2/reseau_topologie.jpg)\n",
    "\n",
    "### Topologie en bus\n",
    "\n",
    "Le _bus_ est ici un câble auquel sont reliées les machines.\n",
    "\n",
    "L'un des avantages du bus réside dans la simplicité de sa mise en oeuvre et son moindre coût. \n",
    "\n",
    "Parmi les inconvénients, on peut citer qu'en cas de rupture du bus, le réseau devient inutilisable. De plus, le signal n'est jamais regénéré, ce qui limite la longueur des cables.\n",
    "\n",
    "### Topologie en anneau\n",
    "\n",
    "Parmi les avantages, cette topologie permet d'avoir un débit proche de 90% de la bande passante. De plus, le signal qui circule est regénéré par chaque station.\n",
    "\n",
    "Dans les inconvénients, on peut citer le fait que si un poste tombe en panne, le réseau ne fonctionne plus. De plus , plus le nombre de machines augmente, plus la transmission d'une information est longue.\n",
    "\n",
    "### Topologie en étoile\n",
    "Cette toplogie est la plus courante.\n",
    "\n",
    "Toutes les stations sont reliées à un unique composant central : le concentrateur.\n",
    "Quand une station émet vers le concentrateur, celui-ci envoie les données à celle qui en est le destinataire (switch) ou à toutes les autres machines (hub).\n",
    "\n",
    "Ce type de réseau est facile à mettre en place et à surveiller. La panne d'une station ne met pas en cause l'ensemble du réseau. En revanche, il faut plus de câbles que pour les autres topologies, ce qui engendre un coût plus élevé que les autres topologies, et si le concentrateur tombe en panne, tout le réseau est hors-d'état de fonctionner. De plus, le débit pratique est moins bon que les autres toplogies."
   ]
  },
  {
   "cell_type": "markdown",
   "metadata": {},
   "source": [
    "**Source :**\n",
    "\n",
    "-  @Credits : Les Vrais Exos 1ere NSI (ISBN : 9782091574653)\n",
    "-  @credits : David Roche : [pixees](https://pixees.fr/informatiquelycee/n_site/nsi_prem_tcpip.html) \n",
    "-  @credits : Frédéric Junier, Lycée du parc [SNT Internet](https://frederic-junier.org/SNT/Theme2_Internet/SNT_Introduction_Internet.html)\n",
    "-  @crédits : NSI - Lycée Clemenceau, Nantes\n",
    "-  @Crédits : Culture numérique : [Qu'est ce qu'est Internet](https://culturenumerique.univ-lille.fr/module1.html#sec_4)\n",
    "-  @ressources : [TCP et le bit alterné](https://www.schoolmouv.fr/cours/tcp-et-le-bit-alterne/fiche-de-cours)"
   ]
  },
  {
   "cell_type": "code",
   "execution_count": null,
   "metadata": {},
   "outputs": [],
   "source": []
  }
 ],
 "metadata": {
  "kernelspec": {
   "display_name": "Python 3",
   "language": "python",
   "name": "python3"
  },
  "language_info": {
   "codemirror_mode": {
    "name": "ipython",
    "version": 3
   },
   "file_extension": ".py",
   "mimetype": "text/x-python",
   "name": "python",
   "nbconvert_exporter": "python",
   "pygments_lexer": "ipython3",
   "version": "3.7.6"
  }
 },
 "nbformat": 4,
 "nbformat_minor": 2
}
