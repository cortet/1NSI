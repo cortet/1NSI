{
 "cells": [
  {
   "cell_type": "markdown",
   "metadata": {},
   "source": [
    "# Introduction à la notion de réseau"
   ]
  },
  {
   "cell_type": "markdown",
   "metadata": {},
   "source": [
    "## Un réseau local"
   ]
  },
  {
   "cell_type": "markdown",
   "metadata": {},
   "source": [
    "Il est possible de faire communiquer deux ordinateurs en les reliant par un simple câble. On dit alors que ces deux ordinateurs sont en réseau. \n",
    "\n",
    "![](data/nsi_prem_introReseau_1.png)\n",
    "\n",
    "Dans la plupart des cas, le câble reliant les 2 ordinateurs est un câble Ethernet. Ce type de câble possède à ses 2 extrémités des prises RJ45 (il existe d'autres types de câbles qui permettent de mettre 2 ordinateurs en réseau, mais l'utilisation de câbles Ethernet est tellement majoritaire que nous ne nous intéresserons pas aux autres types de câbles). \n",
    "\n",
    "![](data/nsi_prem_introReseau_2.jpg)\n",
    "\n",
    "Un ordinateur relié à un réseau doit posséder une carte réseau, on identifie cette carte réseau de type Ethernet grâce à la prise RJ45 femelle située souvent à l'arrière de l'ordinateur. \n",
    "\n",
    "![](data/nsi_prem_introReseau_3.jpg)\n",
    "\n",
    "Relier 2 ordinateurs peut avoir un intérêt, mais dans la plupart des cas, un réseau sera constitué d'un plus grand nombre d'ordinateurs. Dans ce cas, il est nécessaire d'utiliser un commutateur réseau, souvent appelé switch (même en français). Un switch est constitué de plusieurs prises RJ45. \n",
    "\n",
    "![](data/switch.png)\n",
    "\n",
    "Comme nous le montre la photo ci-dessus, il existe des switchs de différentes tailles, certains switchs possèdent 8 prises RJ45 alors que d'autres peuvent en posséder 24.\n",
    "\n",
    "Chaque ordinateur doit être relié au switch par l'intermédiaire d'un câble Ethernet. \n",
    "\n",
    "![](data/nsi_prem_introReseau_4.png)\n",
    "\n",
    "Dans l'exemple du schéma ci-dessus, les ordinateurs A, B, C et D sont en réseau, chaque ordinateur peut communiquer avec les 3 autres.\n",
    "\n",
    "Les switchs ayant un nombre de prises RJ45 limité, il peut être nécessaire d'utiliser plusieurs switchs dans un même réseau. \n",
    "\n",
    "![](data/nsi_prem_introReseau_5.png)\n",
    "\n",
    " Dans l'exemple du schéma ci-dessus, les ordinateurs A, B, C, D et E sont en réseau. A, B et C sont reliés à un switch, D et E sont reliés à un autre switch. Les 2 switchs étant reliés ensemble.\n",
    "\n",
    "Depuis le début nous avons uniquement parlé de <b>réseaux filaires</b> (les différents composants du réseau sont reliés par des câbles), il est aussi possible de mettre plusieurs machines en réseau grâce à des technologies sans fil (utilisation des ondes radio pour transmettre l'information entre les différents composants du réseau), par exemple, le <b>wifi</b> (il existe d'autres technologies sans fil que le wifi, mais elles ne seront abordées ici). Chaque ordinateur appartenant au réseau sans fil devra posséder une carte réseau wifi (aujourd'hui tous les ordinateurs portables vendus sont par défaut équipés d'une telle carte). Il sera nécessaire d'utiliser un concentrateur wifi (équivalent du switch en filaire) si l'on désire mettre en réseau plus de deux ordinateurs.\n",
    "\n",
    "Maintenant que nos ordinateurs sont reliés par l'intermédiaire d'un switch (ou d'un concentrateur wifi), imaginons que l'ordinateur A \"souhaite\" entrer en communication avec l'ordinateur C. \n",
    "\n",
    "Quand vous désirez communiquer avec quelqu'un par voie postale, il est nécessaire d'écrire l'adresse de cette personne sur une enveloppe, à chaque habitation correspond donc une adresse postale. Et bien c'est un peu la même chose pour les ordinateurs en réseau, chaque machine possède une adresse. Pendant très longtemps il a existé différentes technologies de réseau et donc différents types d'adresse. Aujourd'hui, on trouve presque exclusivement qu'un seul type d'adresse : <b>les adresses IP</b>. \n",
    "\n",
    "Pour aborder cette nouvelle notion, je vous invite à cliquer sur l'image ci-dessous.\n",
    "\n",
    "> <b>A faire pendant le visionnage :</b> \n",
    "- Ecrivez sur une feuille l'ensemble des mots inconnus ou non qui semble se rapporter à la notion de réseaux.\n",
    "- Après le visionnage, cherchez dans un dictionnaire les mots qui vous sont inconnu. Ne cherchez pas à devenir expert, mais plutôt a pouvoir associer le mot à une notion plus fine.\n",
    "\n",
    "[![video MOOC SNT](data/MOOC_SNT.png)](data\\MOOC_SNT.mp4)"
   ]
  },
  {
   "cell_type": "markdown",
   "metadata": {},
   "source": [
    "## L'adressage IP\n",
    "\n",
    "> <b> A faire : </b> \n",
    "- Déterminer l'adresse Internet de votre machine avec l'outil <a href=\"https://whatismyipaddress.com/?u=TRUE\">whatismyipaddress</a>.\n",
    "\n",
    "\n",
    "A partir d'un hôte A sur Internet, on peut tester si on peut atteindre un hôte B avec la commande Ping , la commande <code>ifconfig</code> sur Linux/MacOS ou <code>ipconfig</code> sur Windows permettant de déterminer l'adresse IP d'une interface réseau. \n",
    "\n",
    "__note__ : Un hôte est le nom \"informatique\" pour désigner une machine, cela peut être soit un client, soit un serveur. Mais on reviendra sur ces 2 notions plus tard.\n",
    "\n",
    "\n",
    "> <b> A faire : </b>  Cliquez dans la barre de recherche de windows (en bas à gauche !) et tapez cmd puis entrez. Vous vennez de démarrer l'invite de commande Windows.\n",
    "\n",
    "![](data/cmd.jpg)\n",
    "\n",
    "> <b> A faire : </b> Taper la commande <code>ifconfig</code> sur Linux/MacOS ou <code>ipconfig</code> sur Windows. \n",
    "- Qu'obtenez vous ? \n",
    "- Quelle est votre adresse IP ? \n",
    "- Pourquoi semble t'il y en avoir 2 ? Quelle est la différence entre les 2 ? <a href=\"https://fr.wikipedia.org/wiki/R%C3%A9seau_priv%C3%A9\">Pour en savoir plus</a>.\n",
    "\n",
    "<span style='color:red'> Quelques éléments de réponse ici : <a href=\"https://www.ionos.fr/digitalguide/serveur/know-how/quels-sont-les-avantages-de-ipv6/\"> Avantages IPV6 </a> </span>\n",
    "\n",
    "![](data/cmd2.jpg)\n",
    "\n",
    "> <b> Question subsidiaire : </b> C'est une capture de mon résultat. \n",
    "- Pouvez vous m'indiquez si j'étais en réseau filaire ou en réseau WIFI ? \n",
    "<span style='color:red'> en WIFI, il fallait répérer \"Carte réseau sans fil Wi-Fi</span>\n",
    "- Quelle était mon adresse IP ? <span style='color:red'>192.168.0.87 et je n'ai pas paramétré d'adresse en IPV6 sur mon réseau local </span>\n"
   ]
  },
  {
   "cell_type": "markdown",
   "metadata": {},
   "source": [
    "## Un peu de technique : L'adressage IPV4\n",
    "\n",
    "Les adresses IP sont de la forme : \"a.b.c.d\", avec a, b, c et d compris entre 0 et 255 (a, b, c et d sont codés sur **1 octet**). Voici un exemple d'adresse IP : 192.168.0.13\n",
    "\n",
    "Une partie de l’adresse IP permet d’identifier le réseau auquel appartient la machine et l’autre partie de l’adresse IP permet d’identifier la machine sur ce réseau.\n",
    "\n",
    "*Exemple :* Soit un ordinateur A ayant pour adresse IP <code>192.168.2.1</code>. Dans cette adresse IP \"<code>192.168.2</code>\" permet d’identifier le réseau (on dit que la machine A appartient au réseau ayant pour adresse <code>192.168.2.0</code>, pour trouver l'adresse réseau il suffit de remplacer la partie \"machine\" de cette adresse IP par un (ou des) 0. \"13\" permet d’identifier la machine sur le réseau.\n",
    "\n",
    "Toutes les machines appartenant au même réseau devront posséder la même adresse réseau (sinon elles ne pourront pas communiquer ensemble, même si elles sont bien physiquement reliées).\n",
    "\n",
    "Prenons 2 exemples, soit 2 machines A et B en réseau :\n",
    "\n",
    "- la machine A a pour adresse IP <code>192.168.2.5</code> et la machine B a pour adresse IP <code>192.168.2.8</code>. Les 3 premiers octets sont bien identiques (\"<code>192.168.2</code>\"), A et B ont donc la même adresse réseau \"<code>192.168.2.0</code>\". Ces 2 machines pourront donc communiquer ensemble\n",
    "\n",
    "- la machine A a pour adresse IP <code>192.168.2.5</code> et la machine B a pour adresse IP <code>192.168.3.8</code>. Les 3 premiers octets ne sont pas identiques (\"<code>192.168.2</code>\" pour A et \"<code>192.168.3</code>\" pour B), A et B n'ont pas la même adresse réseau (\"<code>192.168.2.0</code>\" pour A et \"<code>192.168.3.0</code>\" pour B). Ces 2 machines ne pourront donc pas communiquer ensemble\n",
    "\n",
    "Attention, les adresses IP (a.b.c.d) n’ont forcément pas les parties a, b et c consacrées à l’identification du réseau et la partie d consacrées à l’identification des machines sur le réseau : on rajoute souvent à l'adresse IP un \"/\" suivit du nombre 8, 16 ou 24\n",
    "\n",
    "    si ce nombre est 8 (exemple : 192.168.2.1/8), cela signifie que pour une adresse a.b.c.d/8, la partie a est consacrée à l'adresse réseau, le reste (b, c, d) est consacré à la partie machine de l'adresse IP. On aura donc une adresse réseau de la forme a.0.0.0 On parle de classe d'adressage A.\n",
    "    si ce nombre est 16 (exemple : 192.168.2.1/16), cela signifie que pour une adresse a.b.c.d/16, les parties a et b sont consacrées à l'adresse réseau, le reste (c, d) est consacré à la partie machine de l'adresse IP. On aura donc une adresse réseau de la forme a.b.0.0. On parle de classe d'adressage B.\n",
    "    si ce nombre est 24 (exemple : 192.168.2.1/24), cela signifie que pour une adresse a.b.c.d/24, les parties a, b et c sont consacrées à l'adresse réseau, le reste (d) est consacré à la partie machine de l'adresse IP. On aura donc une adresse réseau de la forme a.b.c.0 On parle de classe d'adressage C.\n",
    "\n",
    "![](data/Classes_IP_bis.png)\n",
    "\n",
    "Vous avez sans doute déjà compris que le 8 signifie que les 8 premiers bits (le premier octet) sont consacrés à la partie réseau => a, que le 16 signifie que les 16 premiers bits (les deux premiers octets) sont consacrés à la partie réseau => a.b et que le 24 signifie que les 24 premiers bits (les 3 premiers octets) sont consacrés à la partie réseau => a.b.c\n"
   ]
  },
  {
   "cell_type": "markdown",
   "metadata": {},
   "source": [
    "## Exercices :\n",
    "\n",
    "> **À faire vous-même :** Déterminez les adresses réseaux à partir des adresses IP suivantes :\n",
    "- 147.12.1.24/16 <span style='color:red'> 147.12.0.0, c'est un réseau /16 de classe B. Il ne faut prendre que les 2 premiers octets</span>\n",
    "- 192.168.2.45/24 <span style='color:red'> 192.168.2.0, classe C</span>\n",
    "- 5.23.65.87/8 <span style='color:red'> 5.0.0.0, classe A</span>\n",
    "\n",
    "> **À faire vous-même  :** Soit 2 machines A et B connectées à un switch, dites dans quels cas ces 2 machines pourront communiquer ensemble :\n",
    "- adresse IP de A : 172.23.4.7/16 //  adresse IP de B : 172.23.5.8/16\n",
    "<span style='color:red'> oui, car c'est un réseau de classe B dont l'adresse est 172.23.0.0</span>\n",
    "- adresse IP de A : 24.2.8.127/8 //  adresse IP de B : 24.23.5.52/8\n",
    "<span style='color:red'>oui, car c'est un réseau de classe A dont l'adresse est 24.0.0.0</span>\n",
    "- adresse IP de A : 193.28.7.2/24 // adresse IP de B : 193.28.8.3/24\n",
    "<span style='color:red'>non, ce sont des réseaux de classe C dont les adresses sont respectivement 193.28.7.0 et 193.28.8.0</span>\n",
    "\n",
    "Il est à noter que certaines adresses IP ne sont pas disponibles :\n",
    "- une adresse réseau ne peut pas être attribuée à une machine, par exemple aucune machine ne pourra avoir l'adresse IP 192.168.1.0/24 ou encore l'adresse IP 25.0.0.0/8\n",
    "- les adresses IP qui ont tous les octets de la partie \"machines\" de l'adresse IP à 255 ne sont pas utilisables (ce sont des adresses de broadcast qui permettent d'envoyer des données vers toutes les machines d'un réseau), exemples : 192.167.24.255/24, 172.28.255.255/16 ou encore 4.255.255.255/8 sont des adresses de broadcast\n",
    "\n",
    "> **À faire vous-même  :**  Combien de machines peut-on trouver au maximum :\n",
    "- dans un réseau d'adresse réseau 192.168.2.0/24 ? <span style='color:red'> On code sur 1 octet, mais en enlevant les adresses en 0 et 255, soit 254 machines hôtes possibles </span>\n",
    "- dans un réseau d'adresse réseau 176.24.0.0/16 ? <span style='color:red'> 2<sup>2x8</sup>-2 postes, soit 65 534 machines hôtes possibles </span>\n",
    "- dans un réseau d'adresse réseau 10.0.0.0/8 ? <span style='color:red'> 2<sup>3×8</sup>-2 postes, soit 16 777 214 machines hôtes possibles </span>\n",
    "\n",
    "Quelques éléments de réponse [ici](https://fr.wikipedia.org/wiki/Classe_d%27adresse_IP)"
   ]
  },
  {
   "cell_type": "markdown",
   "metadata": {},
   "source": [
    "### Pour aller plus loin  et pour préparer la suite de notre cours : \n",
    "\n",
    "Je vous invite à lire l'article ci dessous : \n",
    "[Interstices : Internet, le conglomérat des réseaux](https://interstices.info/internet-le-conglomerat-des-reseaux/)"
   ]
  },
  {
   "cell_type": "markdown",
   "metadata": {},
   "source": [
    "**Source :**\n",
    "\n",
    "-  @credits : David Roche : [pixees](https://pixees.fr/informatiquelycee/n_site/nsi_prem_intro_reseau.html) \n",
    "- [4. Les classes d'adresses](https://www.inetdoc.net/articles/adressage.ipv4/adressage.ipv4.class.html)\n",
    "- frederic-junier.org : licence [BY-NC-SA](https://creativecommons.org/licenses/by-nc-sa/2.0/fr/)"
   ]
  },
  {
   "cell_type": "code",
   "execution_count": null,
   "metadata": {},
   "outputs": [],
   "source": []
  }
 ],
 "metadata": {
  "kernelspec": {
   "display_name": "Python 3",
   "language": "python",
   "name": "python3"
  },
  "language_info": {
   "codemirror_mode": {
    "name": "ipython",
    "version": 3
   },
   "file_extension": ".py",
   "mimetype": "text/x-python",
   "name": "python",
   "nbconvert_exporter": "python",
   "pygments_lexer": "ipython3",
   "version": "3.7.3"
  }
 },
 "nbformat": 4,
 "nbformat_minor": 2
}
