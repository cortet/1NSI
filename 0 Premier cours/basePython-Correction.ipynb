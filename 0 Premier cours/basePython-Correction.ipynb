{
 "cells": [
  {
   "cell_type": "markdown",
   "metadata": {},
   "source": [
    "# Cours du vendredi 11 septembre"
   ]
  },
  {
   "cell_type": "markdown",
   "metadata": {},
   "source": [
    "## Bonnes pratiques en programmation"
   ]
  },
  {
   "cell_type": "markdown",
   "metadata": {},
   "source": [
    "1. **Commenter le code**\n",
    "\n",
    "    a) pour se souvenir de ce qu’il signifie quand on le relit 15 jours après <br />\n",
    "    b) pour qu’une personne qui ne connaît pas le programme et le lit comprenne facilement ce qu’il fait.\n",
    "\n",
    "\n",
    "2. **Réaliser les tâches par petits morceaux** pour que le programme reste simple et facilement modifiable \n",
    "\n",
    "\n",
    "3. **Tester** régulièrement le fonctionnement du programme pour ne pas avoir à relire un code très long et compliqué sans comprendre pourquoi il ne fonctionne pas comme voulu ;\n",
    "\n",
    "\n",
    "4. **Lire attentivement les erreurs signalées par Python** pour trouver rapidement la source de l’erreur et la corriger ;\n",
    "\n",
    "\n",
    "5. **Donner des noms explicites aux variables et aux fonctions** afin de savoir précisément ce qu’elles contiennent comme valeur ou ce qu’elles font ;\n",
    "\n",
    "\n",
    "6. **Utiliser le « camel-case » pour les noms de variables et de fonction** : par exemple, `maVariable` ou `maFonctionDeTest`, afin de les lire facilement\n",
    "\n",
    "\n",
    "7. **Faire des print pour voir l’évolution des variables** et être sûr qu’elles se comportent comme attendu."
   ]
  },
  {
   "cell_type": "markdown",
   "metadata": {},
   "source": [
    "<center><H1> Suite du cours Base de Python </H1></center>"
   ]
  },
  {
   "cell_type": "markdown",
   "metadata": {},
   "source": [
    "## 6.La boucle bornée : for ..."
   ]
  },
  {
   "cell_type": "markdown",
   "metadata": {},
   "source": [
    "Lire le cours sur la boucle for p6 du poly puis faire les exercices en utilisant les cellules ci dessous.\n",
    "\n",
    "Cliquez sur la flèche à gauche pour executer une cellule et eventuellement sur le carré qui apparaîtra si vous voyez que votre boucle devient infinie.\n"
   ]
  },
  {
   "cell_type": "markdown",
   "metadata": {},
   "source": [
    "### Exercice 1 :\n",
    "Compléter le script ci-dessous pour qu’il affiche la table de multiplication de 13 :"
   ]
  },
  {
   "cell_type": "code",
   "execution_count": 2,
   "metadata": {},
   "outputs": [
    {
     "name": "stdout",
     "output_type": "stream",
     "text": [
      "13 x 0 = 143\n",
      "13 x 1 = 143\n",
      "13 x 2 = 143\n",
      "13 x 3 = 143\n",
      "13 x 4 = 143\n",
      "13 x 5 = 143\n",
      "13 x 6 = 143\n",
      "13 x 7 = 143\n",
      "13 x 8 = 143\n",
      "13 x 9 = 143\n",
      "13 x 10 = 143\n"
     ]
    }
   ],
   "source": [
    "for i in range(11) :\n",
    "    print(\"13 x\",i,\"=\", 13*11)"
   ]
  },
  {
   "cell_type": "markdown",
   "metadata": {},
   "source": [
    "### Exercice 2 :\n",
    "Le script ci-dessous calcule et affiche un nombre.\n",
    "À quelle opération ce nombre correspond-il ?"
   ]
  },
  {
   "cell_type": "code",
   "execution_count": 3,
   "metadata": {},
   "outputs": [
    {
     "name": "stdout",
     "output_type": "stream",
     "text": [
      "5050\n"
     ]
    }
   ],
   "source": [
    "s=0\n",
    "for i in range(101) :\n",
    "    s = i + s\n",
    "print(s)"
   ]
  },
  {
   "cell_type": "markdown",
   "metadata": {},
   "source": [
    "Il s'agit de la somme des 100 premiers entiers"
   ]
  },
  {
   "cell_type": "markdown",
   "metadata": {},
   "source": [
    "### Exercice 3 :\n",
    "Jean a placé 5 000e sur un compte bancaire rémunéré à 2,5 % par an."
   ]
  },
  {
   "cell_type": "markdown",
   "metadata": {},
   "source": [
    "### a)\n",
    "Compléter le script suivant pour qu’il calcule et affiche la somme qu’il aura sur son compte après 10 ans d’augmentation.\n",
    "**Remarque :** la ``fonction round(c,2)`` renvoie l’arrondi à 2 chiffres de _c_."
   ]
  },
  {
   "cell_type": "code",
   "execution_count": 4,
   "metadata": {},
   "outputs": [
    {
     "name": "stdout",
     "output_type": "stream",
     "text": [
      "6560.43\n"
     ]
    }
   ],
   "source": [
    "c = 5000\n",
    "for i in range(11) :\n",
    "    c = c*1.025\n",
    "print(round(c,2))"
   ]
  },
  {
   "cell_type": "markdown",
   "metadata": {},
   "source": [
    "### b)\n",
    "Modifier le code pour qu’il demande le nombre n d’années d’augmentation, puis calcule et affiche la somme sur le compte de Jean après ces n années."
   ]
  },
  {
   "cell_type": "code",
   "execution_count": 8,
   "metadata": {},
   "outputs": [
    {
     "name": "stdout",
     "output_type": "stream",
     "text": [
      "au bout de combien d'années, souhaitez vous connaître la somme gagnée ?500\n",
      "1179306156.12\n"
     ]
    }
   ],
   "source": [
    "c=5000\n",
    "a = int(input(\"au bout de combien d'années, souhaitez vous connaître la somme gagnée ?\"))\n",
    "for i in range(a+1) :\n",
    "    c = c*1.025\n",
    "print(round(c,2))"
   ]
  },
  {
   "cell_type": "markdown",
   "metadata": {},
   "source": [
    "## 7.La boucle non bornée : while ..."
   ]
  },
  {
   "cell_type": "markdown",
   "metadata": {},
   "source": [
    "Lire le cours sur la boucle While p7 du poly puis faire les exercices en utilisant les cellules ci dessous."
   ]
  },
  {
   "cell_type": "markdown",
   "metadata": {},
   "source": [
    "### Exercice 1 :\n",
    "Un jardinier souhaite creuser un puits dans son jardin. Le prix du forage dépend de la profondeur atteinte. Le premier mètre coûte 100e, puis chaque mètre supplémentaire coûte 20e (120e pour aller à 2 m, 140e pour aller à 3 m, etc.)\n",
    "Pour ce forage, le budget du jardinier est de 700e.\n",
    "\n",
    "Compléter le script suivant pour qu’il calcule et affiche la profondeur maximale atteinte."
   ]
  },
  {
   "cell_type": "code",
   "execution_count": 10,
   "metadata": {},
   "outputs": [
    {
     "name": "stdout",
     "output_type": "stream",
     "text": [
      "la profondeur atteinte sera de  32  mètres\n"
     ]
    }
   ],
   "source": [
    "profondeur = 1\n",
    "prix = 100\n",
    "while prix <= 700 :\n",
    "    prix = prix + 20\n",
    "    profondeur = profondeur + 1\n",
    "print(\"la profondeur atteinte sera de \",profondeur, \" mètres\")"
   ]
  },
  {
   "cell_type": "markdown",
   "metadata": {},
   "source": [
    "On peut générer des nombres aléatoires à l’aide du module ``random`` et de la fonction ``randint`` . En mettant au début du script l’instruction ``import random`` , on peut plus loin donner\n",
    "l’instruction ``a = random.randint(1,6)`` qui affectera à la variable a un nombre aléatoire entre 1 inclus et 6 inclus.\n",
    "\n",
    "Compléter ce script pour qu’il compte et affiche combien de fois il faut lancer deux dés pour obtenir 12 en faisant la somme des points des dés."
   ]
  },
  {
   "cell_type": "code",
   "execution_count": 11,
   "metadata": {},
   "outputs": [
    {
     "name": "stdout",
     "output_type": "stream",
     "text": [
      "il a fallu  37 tirages pour obtenir 12\n"
     ]
    }
   ],
   "source": [
    "import random\n",
    "somme = 0\n",
    "nombre = 0\n",
    "while somme != 12:\n",
    "    de1 = random.randint(1,6)\n",
    "    de2 = random.randint(1,6)\n",
    "    somme = de1 + de2\n",
    "    nombre = nombre +1\n",
    "print(\"il a fallu \", nombre, \"tirages pour obtenir 12\")"
   ]
  },
  {
   "cell_type": "markdown",
   "metadata": {},
   "source": [
    "### Exercice 3 :\n",
    "\n",
    "Réaliser le programme du « plus grand–plus petit » : le script commence par tirer un nombre entier au hasard entre 1 et 1000.\n",
    "\n",
    "Puis, il demande à l’utilisateur d’entrer un nombre. Le script affiche « trop grand » si le nombre de l’utilisateur dépasse celui\n",
    "à deviner, « trop petit » sinon.\n",
    "\n",
    "Ce processus doit se répéter jusqu’à ce que l’utilisateur devine le bon nombre.\n",
    "\n",
    "Dans ce cas, le script affiche le nombre de propositions que le joueur a faites.\n",
    "\n",
    "**Variante :** on peut imposer un nombre maximum de\n",
    "propositions, au-delà duquel le joueur perd le jeu."
   ]
  },
  {
   "cell_type": "code",
   "execution_count": 12,
   "metadata": {},
   "outputs": [
    {
     "name": "stdout",
     "output_type": "stream",
     "text": [
      "Entrez un nombre entre 1 et 100 : 5\n",
      "trop petit !\n",
      "Entrez un nombre entre 1 et 100 : 50\n",
      "trop petit !\n",
      "Entrez un nombre entre 1 et 100 : 65\n",
      "trop petit !\n",
      "Entrez un nombre entre 1 et 100 : 56\n",
      "trop petit !\n",
      "Entrez un nombre entre 1 et 100 : 23\n",
      "trop petit !\n",
      "Entrez un nombre entre 1 et 100 : 58\n",
      "trop petit !\n",
      "Vous avez fait  6  essais\n",
      "Le nombre à deviner était :  93\n"
     ]
    }
   ],
   "source": [
    "import random\n",
    "\n",
    "nombreAdeviner = random.randint(1,100)\n",
    "nombreChoisi = 0\n",
    "nombreEssai=0\n",
    "\n",
    "while (nombreChoisi != nombreAdeviner) and (nombreEssai<=5) :\n",
    "    nombreChoisi = int(input(\"Entrez un nombre entre 1 et 100 : \"))\n",
    "    nombreEssai +=1\n",
    "    if nombreChoisi < nombreAdeviner :\n",
    "        print(\"trop petit !\")\n",
    "    elif nombreChoisi > nombreAdeviner:\n",
    "        print(\"trop grand !\")\n",
    "\n",
    "print(\"Vous avez fait \",nombreEssai,\" essais\")\n",
    "print(\"Le nombre à deviner était : \",nombreAdeviner)"
   ]
  },
  {
   "cell_type": "markdown",
   "metadata": {},
   "source": [
    "## 8.Les fonctions : def ..."
   ]
  },
  {
   "cell_type": "markdown",
   "metadata": {},
   "source": [
    "Lire le cours sur les fonctions p8 du poly puis faire les exercices en utilisant les cellules ci dessous."
   ]
  },
  {
   "cell_type": "markdown",
   "metadata": {},
   "source": [
    "### Exercice 1 :\n",
    "On définit la fonction exercice1 de la façon suivante :\n",
    "def exercice1(a) :\n",
    "␣␣return a**2-a+1\n"
   ]
  },
  {
   "cell_type": "code",
   "execution_count": null,
   "metadata": {},
   "outputs": [],
   "source": [
    "def exercice1(a) :\n",
    "    return a**2-a+1"
   ]
  },
  {
   "cell_type": "markdown",
   "metadata": {},
   "source": [
    "1. Combien cette fonction a-t-elle de paramètres ? \n",
    "\n",
    "**Vous pouvez double-cliquer sur la cellule pour l'éditer et insérer votre réponse. Pour repasser en mode texte, il faut exeecuter la cellule**\n",
    "\n",
    "2. Que sera-t-il affiché si on appelle la fonction ?\n",
    "Essayer d'anticiper votre réponse avant d'executer la cellule"
   ]
  },
  {
   "cell_type": "code",
   "execution_count": null,
   "metadata": {},
   "outputs": [],
   "source": [
    "exercice1(2)"
   ]
  },
  {
   "cell_type": "code",
   "execution_count": null,
   "metadata": {},
   "outputs": [],
   "source": [
    "exercice1(5)"
   ]
  },
  {
   "cell_type": "code",
   "execution_count": null,
   "metadata": {},
   "outputs": [],
   "source": [
    "exercice1(2.1)"
   ]
  },
  {
   "cell_type": "markdown",
   "metadata": {},
   "source": [
    "### Exercice 2 : \n",
    "Écrire une fonction ``vitesse`` qui prend deux paramètres\n",
    "``distance`` (supposé être en km) et ``temps`` (en heures) et qui retourne la vitesse moyenne en km/h."
   ]
  },
  {
   "cell_type": "code",
   "execution_count": 13,
   "metadata": {},
   "outputs": [],
   "source": [
    "def vitesse(distance,temps):\n",
    "    return distance/temps"
   ]
  },
  {
   "cell_type": "code",
   "execution_count": 14,
   "metadata": {},
   "outputs": [
    {
     "data": {
      "text/plain": [
       "2.5"
      ]
     },
     "execution_count": 14,
     "metadata": {},
     "output_type": "execute_result"
    }
   ],
   "source": [
    "vitesse(5,2)"
   ]
  },
  {
   "cell_type": "markdown",
   "metadata": {},
   "source": [
    "### Exercice 3 :\n",
    "On considère la fonction suivante :"
   ]
  },
  {
   "cell_type": "code",
   "execution_count": null,
   "metadata": {},
   "outputs": [],
   "source": [
    "import random\n",
    "def exercice3() :\n",
    "    return random.randint(1,6)"
   ]
  },
  {
   "cell_type": "markdown",
   "metadata": {},
   "source": [
    "Dans ce script, la commande ``import random`` met à\n",
    "disposition du programmeur des fonctions additionnelles de\n",
    "Python, parmi lesquelles ``randint`` . Cette fonction permet d’obtenir un nombre entier aléatoire pris entre les deux nombres donnés en paramètres de ``randint`` .\n",
    "\n",
    "Parmi les nombres suivants, lesquels ne peuvent pas être\n",
    "retournés par la fonction exercice3 ?\n",
    "\n",
    "    2     3,1     7     1,412     6     1     0\n",
    "    \n",
    "    seul 2 6 et 1 sont valides"
   ]
  },
  {
   "cell_type": "markdown",
   "metadata": {},
   "source": [
    "### Exercice 4 :\n",
    "Écrire une fonction ``solde`` qui prend en paramètres un prix et un taux de pourcentage, et qui retourne le prix soldé."
   ]
  },
  {
   "cell_type": "code",
   "execution_count": null,
   "metadata": {},
   "outputs": [],
   "source": [
    "def solde(prix,rabais):\n",
    "    return prix-prix*rabais/100"
   ]
  },
  {
   "cell_type": "markdown",
   "metadata": {},
   "source": [
    "### Exercice 5 :\n",
    "\n",
    "La population d’un village était de 3000 habitants en 2017.\n",
    "En moyenne, la ville perd 2 % de ses habitants chaque année.\n",
    "\n",
    "\n",
    "Écrire une fonction ``population`` qui prend en paramètre une durée en années, et qui calcule la popuplation du village après cette duréee.\n",
    "\n",
    "Vérifiez en exécutant votre fonction que l’instruction\n",
    "``population(2)`` renvoie la valeur 2881,2."
   ]
  },
  {
   "cell_type": "code",
   "execution_count": 15,
   "metadata": {},
   "outputs": [
    {
     "data": {
      "text/plain": [
       "2881.2"
      ]
     },
     "execution_count": 15,
     "metadata": {},
     "output_type": "execute_result"
    }
   ],
   "source": [
    "#fonction qui prend en paramètre une durée exprimée en année\n",
    "#calcule la population apres cette durée\n",
    "\n",
    "def population(duree) :\n",
    "    pop = 3000\n",
    "    for i in range(1,duree+1):\n",
    "        pop = pop*0.98\n",
    "    return pop\n",
    "\n",
    "population(2)"
   ]
  },
  {
   "cell_type": "markdown",
   "metadata": {},
   "source": [
    "Écrire un programme qui détermine au bout de quelle durée\n",
    "la population sera inférieure ou égale à 1500 habitants, et affiche cette durée."
   ]
  },
  {
   "cell_type": "code",
   "execution_count": 16,
   "metadata": {},
   "outputs": [
    {
     "name": "stdout",
     "output_type": "stream",
     "text": [
      "35\n"
     ]
    }
   ],
   "source": [
    "popu=3000\n",
    "duree = 0\n",
    "while popu > 1500:\n",
    "    popu=popu*0.98\n",
    "    duree +=1\n",
    "print(duree)"
   ]
  },
  {
   "cell_type": "markdown",
   "metadata": {},
   "source": [
    "### Exercice 6 :\n",
    "Une patinoire propose deux formules de tarification :\n",
    "\u000f Formule A : chaque entrée coûte 5,25e.\n",
    "\u000f Formule B : on paye un abonnement à l’année de 12e, et\n",
    "chaque entrée coûte alors 3,50e.\n",
    "\n",
    "Écrire deux fonctions ``tarifA`` et ``tarifB`` pour calculer le prix à payer en fonction du nombre d’entrées."
   ]
  },
  {
   "cell_type": "code",
   "execution_count": 17,
   "metadata": {},
   "outputs": [],
   "source": [
    "def tarifA(nbEntree):\n",
    "    return nbEntree*5.25\n",
    "    \n",
    "    \n",
    "def tarifB(nbEntree):\n",
    "    return 12+nbEntree*3.5"
   ]
  },
  {
   "cell_type": "markdown",
   "metadata": {},
   "source": [
    "Utiliser ces fonctions pour déterminer au bout de combien\n",
    "d’entrées la formule B est la plus avantageuse."
   ]
  },
  {
   "cell_type": "code",
   "execution_count": 19,
   "metadata": {},
   "outputs": [
    {
     "name": "stdout",
     "output_type": "stream",
     "text": [
      "Le tarif B est plus avantageux au bout de  7  entrées.\n"
     ]
    }
   ],
   "source": [
    "i=0\n",
    "while tarifA(i)<tarifB(i):\n",
    "    i+=1\n",
    "print(\"Le tarif B est plus avantageux au bout de \", i, \" entrées.\")\n",
    "    "
   ]
  },
  {
   "cell_type": "markdown",
   "metadata": {},
   "source": [
    "## 9.Les chaînes de charactères \n",
    "\n",
    "### Cette partie est facultative. A faire si il vous reste du temps dans la séance."
   ]
  },
  {
   "cell_type": "markdown",
   "metadata": {},
   "source": [
    "### Exercice 1 : \n",
    "Faire sur la feuille"
   ]
  },
  {
   "cell_type": "markdown",
   "metadata": {},
   "source": [
    "### Exercice 2 :\n",
    "La chaîne de caractères abc est définie par la commande\n",
    "``abc=’trois lettres’`` . \n",
    "Complétez les affichages obtenus en réponse aux instructions ci-dessous : "
   ]
  },
  {
   "cell_type": "code",
   "execution_count": null,
   "metadata": {},
   "outputs": [],
   "source": [
    "print(abc)"
   ]
  },
  {
   "cell_type": "code",
   "execution_count": null,
   "metadata": {},
   "outputs": [],
   "source": [
    "print(’abc’)"
   ]
  },
  {
   "cell_type": "code",
   "execution_count": null,
   "metadata": {},
   "outputs": [],
   "source": [
    "print(’abc’)"
   ]
  },
  {
   "cell_type": "code",
   "execution_count": null,
   "metadata": {},
   "outputs": [],
   "source": [
    "1+2+3"
   ]
  },
  {
   "cell_type": "code",
   "execution_count": null,
   "metadata": {},
   "outputs": [],
   "source": [
    "abc+’d’"
   ]
  },
  {
   "cell_type": "markdown",
   "metadata": {},
   "source": [
    "### Exercice 3 : \n",
    "On a commencé un programme qui demande une phrase à\n",
    "l’utilisateur, puis qui compte combien il y a d’espaces dans cette phrase.\n",
    "Complétez ce programme et testez-le :"
   ]
  },
  {
   "cell_type": "code",
   "execution_count": 20,
   "metadata": {},
   "outputs": [
    {
     "name": "stdout",
     "output_type": "stream",
     "text": [
      "Tapez votre phrase  : a b c\n",
      "Il y a 2 espaces dans votre phrase\n"
     ]
    }
   ],
   "source": [
    "phrase = input(\"Tapez votre phrase  : \")\n",
    "n=0\n",
    "for c in phrase :\n",
    "    if c == \" \"  :\n",
    "        n= n+1\n",
    "print(\"Il y a\", n, \"espaces dans votre phrase\")"
   ]
  },
  {
   "cell_type": "markdown",
   "metadata": {},
   "source": [
    "### Exercice 4 :\n",
    "Inspirez-vous du programme de l’exercice précédent pour créer un script qui compte la fréquence de ’e’ (majuscules ou minuscules) dans une phrase.\n",
    "\n",
    "Attention, il faut compter les ’é’ ’è’ ’ê’ et ’ë’ comme des ’e’ !\n",
    "\n",
    "**Approfondissement :** Calculez la fréquence de chacune des voyelles, voire la fréquence de chacune des lettres présente dans le texte."
   ]
  },
  {
   "cell_type": "code",
   "execution_count": 22,
   "metadata": {},
   "outputs": [
    {
     "name": "stdout",
     "output_type": "stream",
     "text": [
      "Tapez votre phrase  : e E\n",
      "Il y a 2 voyelle e dans votre phrase\n"
     ]
    }
   ],
   "source": [
    "phrase = input(\"Tapez votre phrase  : \")\n",
    "n=0\n",
    "for c in phrase :\n",
    "    if c in [\"e\",\"E\",\"é\",\"è\",\"ê\",\"ë\"]  :\n",
    "        n= n+1\n",
    "print(\"Il y a\", n, \"voyelle e dans votre phrase\")"
   ]
  },
  {
   "cell_type": "markdown",
   "metadata": {},
   "source": [
    "### Exercice 5 : \n",
    "Les fonctions ``upper()`` , ``lower()`` et ``capitalize()``\n",
    "s’appliquent à une chaîne de caractères.\n",
    "\n",
    "1. Complétez les exemples suivants pour voir ce qu’elles font."
   ]
  },
  {
   "cell_type": "code",
   "execution_count": 4,
   "metadata": {},
   "outputs": [],
   "source": [
    "p=\"Il FAit bEAu auJOUrd’hui !\""
   ]
  },
  {
   "cell_type": "code",
   "execution_count": null,
   "metadata": {},
   "outputs": [],
   "source": [
    "p.upper() \n",
    "p.lower()\n",
    "p.capitalize()"
   ]
  },
  {
   "cell_type": "markdown",
   "metadata": {},
   "source": [
    "2. Complétez ce script pour faire la fiche d’identité d’une\n",
    "personne, en mettant son nom en majuscules et son prénom avec une lettre capitale :"
   ]
  },
  {
   "cell_type": "code",
   "execution_count": 24,
   "metadata": {},
   "outputs": [
    {
     "name": "stdout",
     "output_type": "stream",
     "text": [
      "Quel est votre nom ? sophie\n",
      "Quel est votre prénom ? l^$l$1\n",
      "Quel est votre âge ? 20\n",
      "NOM : SOPHIE\n",
      "Prénom :  L^$l$1\n",
      "Âge :  20\n"
     ]
    }
   ],
   "source": [
    "nom = input(\"Quel est votre nom ? \")\n",
    "prenom = input(\"Quel est votre prénom ? \")\n",
    "age = input(\"Quel est votre âge ? \")\n",
    "print(\"NOM :\", nom.upper() )\n",
    "print(\"Prénom : \", prenom.capitalize() )\n",
    "print(\"Âge : \", age )"
   ]
  },
  {
   "cell_type": "markdown",
   "metadata": {},
   "source": [
    "<center> <h1> Exercices de révsion </h1></center>"
   ]
  },
  {
   "cell_type": "markdown",
   "metadata": {},
   "source": [
    "## Exercice 1 :\n",
    "\n",
    "Écrire un programme en Python qui récupère au clavier le rayon d’un cercle et qui affiche à l’écran son périmètre"
   ]
  },
  {
   "cell_type": "code",
   "execution_count": null,
   "metadata": {},
   "outputs": [],
   "source": [
    "import math\n",
    "\n",
    "rayon = float(input(\"Entrez le rayon du cercle : \"))\n",
    "print(\"le périmètre du cercle est : \", 2*math.pi*rayon)\n",
    "print(\"l'aire du cercle est de : \", math.pi*rayon**2)"
   ]
  },
  {
   "cell_type": "markdown",
   "metadata": {},
   "source": [
    "## Exercice 2 :\n",
    "\n",
    "compléter le programme ci dessous qui compte le nombre d’entiers entre 10 et 100 (l’utilisateur saisi en console) qui ont le **même** chiffre des unités ou des dizaines.\n",
    "Attention : le programme n'est pas correctement indenté. A vous de corriger l'indentation pour que cela fonctionne."
   ]
  },
  {
   "cell_type": "code",
   "execution_count": 27,
   "metadata": {},
   "outputs": [
    {
     "name": "stdout",
     "output_type": "stream",
     "text": [
      "Entrez le chiffre mystère à compter : 2\n",
      "18\n"
     ]
    }
   ],
   "source": [
    "myst  = float(input(\"Entrez le chiffre mystère à compter : \"))\n",
    "nbEntier = 0\n",
    "for entier in range(10, 100) :\n",
    "    unite = entier % 10\n",
    "    dizaine = entier // 10\n",
    "    if unite == myst or dizaine == myst :\n",
    "        nbEntier = nbEntier + 1\n",
    "print(nbEntier)\n"
   ]
  },
  {
   "cell_type": "markdown",
   "metadata": {},
   "source": [
    "## Exercice 3 : \n",
    "\n",
    "Écrire un programme en Python qui récupère l’âge d’une\n",
    "Personne, si cette personne est étudiante ou non ainsi que si cette personne est chômeur ou non puis qui affiche le bon prix de la place de cinéma.\n"
   ]
  },
  {
   "cell_type": "code",
   "execution_count": 28,
   "metadata": {},
   "outputs": [
    {
     "name": "stdout",
     "output_type": "stream",
     "text": [
      "Quel est ton âge ?25\n",
      "Es tu étudiant ?oui\n",
      "Es tu chômeur ?non\n",
      "4.5\n"
     ]
    }
   ],
   "source": [
    "age = int(input(\"Quel est ton âge ?\")) # par exemple 18\n",
    "estEtudiant = input(\"Es tu étudiant ?\") # par exemple True\n",
    "estChomeur = input(\"Es tu chômeur ?\")\n",
    "\n",
    "if (age<16 or estEtudiant==\"oui\" or estChomeur==\"oui\"):\n",
    "    prix = 4.5\n",
    "else : prix = 6.5\n",
    "print (prix)"
   ]
  },
  {
   "cell_type": "markdown",
   "metadata": {},
   "source": [
    "## Exercice 4 :\n",
    "Écrivez un programme qui affiche les 20 premiers termes de la table de multiplication par 53. Lerésultat commencera comme ceci :\n",
    "1 x 53 =  53\n",
    "2 x 53 = 106\n",
    "3 x 53 = 159\n",
    "\n",
    "_Aide :_ Il existe une fonction de formatage qui permet d'aligner joliment les nombres en colonne.\n",
    "\n",
    "Par exemple, ``print('{:4d}'.format(a))`` Cela écrira l'entier a sur 4 espaces et le calera sur la droite.\n"
   ]
  },
  {
   "cell_type": "code",
   "execution_count": 29,
   "metadata": {},
   "outputs": [
    {
     "name": "stdout",
     "output_type": "stream",
     "text": [
      " 1 x 53 =    53\n",
      " 2 x 53 =   106\n",
      " 3 x 53 =   159\n",
      " 4 x 53 =   212\n",
      " 5 x 53 =   265\n",
      " 6 x 53 =   318\n",
      " 7 x 53 =   371\n",
      " 8 x 53 =   424\n",
      " 9 x 53 =   477\n",
      "10 x 53 =   530\n",
      "11 x 53 =   583\n",
      "12 x 53 =   636\n",
      "13 x 53 =   689\n",
      "14 x 53 =   742\n",
      "15 x 53 =   795\n",
      "16 x 53 =   848\n",
      "17 x 53 =   901\n",
      "18 x 53 =   954\n",
      "19 x 53 =  1007\n",
      "20 x 53 =  1060\n"
     ]
    }
   ],
   "source": [
    "i=1\n",
    "while i<=20 :\n",
    "    print('{:2d}'.format(i), \"x 53 = \",'{:4d}'.format(53*i))\n",
    "    i += 1"
   ]
  }
 ],
 "metadata": {
  "kernelspec": {
   "display_name": "Python 3",
   "language": "python",
   "name": "python3"
  },
  "language_info": {
   "codemirror_mode": {
    "name": "ipython",
    "version": 3
   },
   "file_extension": ".py",
   "mimetype": "text/x-python",
   "name": "python",
   "nbconvert_exporter": "python",
   "pygments_lexer": "ipython3",
   "version": "3.8.3"
  }
 },
 "nbformat": 4,
 "nbformat_minor": 4
}
