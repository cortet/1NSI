{
 "cells": [
  {
   "cell_type": "markdown",
   "metadata": {},
   "source": [
    "#  Le codage binaire"
   ]
  },
  {
   "cell_type": "markdown",
   "metadata": {},
   "source": [
    "## Rappel : Bibliothèque de référence Python\n",
    "https://docs.python.org/fr/3/reference/index.html#reference-index"
   ]
  },
  {
   "cell_type": "markdown",
   "metadata": {},
   "source": [
    "## Objectif du programme :\n",
    "## Etape 1 :\n",
    "Ecrire une boucle de 0 à 300 qui écrit la conversion en binaire d'un nombre.\n",
    "On obtient en sortie :\n",
    "\n",
    "0 sécrit en binaire  0\n",
    "\n",
    "1 sécrit en binaire  1\n",
    "\n",
    "2 sécrit en binaire  10\n",
    "\n",
    "3 sécrit en binaire  11\n",
    "\n",
    "....."
   ]
  },
  {
   "cell_type": "code",
   "execution_count": null,
   "metadata": {},
   "outputs": [],
   "source": [
    "#Etape 1 :\n",
    "for a in range(0 ,300 ):\n",
    "    #convertir a en binaire et l'affecter à une nouvelle variable\n",
    "    abin = bin(a)\n",
    "    #Ecrire la phrase de synthese\n",
    "    print (a, \"s'écrit en binaire : \", abin )"
   ]
  },
  {
   "cell_type": "markdown",
   "metadata": {},
   "source": [
    "## Etape 2 :\n",
    "Est ce que l'affichage est identique à ce qui est demandé  ?\n",
    "Comment résoudre le problème ?\n",
    "\n",
    "_Aide :_  il faut enlever des caractères à la variable ``abin``\n",
    "\n",
    "http://www.python-simple.com/python-langage/chaines-de-caracteres-string.php "
   ]
  },
  {
   "cell_type": "code",
   "execution_count": null,
   "metadata": {},
   "outputs": [],
   "source": [
    "#Etape 2:\n",
    "for a in range(0 ,300 ):\n",
    "    #convertir a en binaire et l'affecter à une nouvelle variable\n",
    "    abin = bin(a)\n",
    "    #Ecrire la phrase de synthese\n",
    "    print (a, \"s'écrit en binaire : \", abin[2:] )"
   ]
  },
  {
   "cell_type": "markdown",
   "metadata": {},
   "source": [
    "## Etape 3 :\n",
    "On veut enrichir la phrase de synthèse en calculant la longueur de la conversion binaire.\n",
    "0 sécrit en binaire  0  sur  1  bits\n",
    "\n",
    "1 sécrit en binaire  1  sur  1  bits\n",
    "\n",
    "2 sécrit en binaire  10  sur  2  bits\n",
    "\n",
    "3 sécrit en binaire  11  sur  2  bits ...."
   ]
  },
  {
   "cell_type": "code",
   "execution_count": null,
   "metadata": {},
   "outputs": [],
   "source": [
    "#Etape 3 :\n",
    "for a in range(0 ,300 ):\n",
    "    #convertir a en binaire et l'affecter à une nouvelle variable\n",
    "    abin = bin(a)\n",
    "    #Ecrire la phrase de synthese\n",
    "    print (a, \"s'écrit en binaire : \", abin[2:], \"sur \", len(abin[2:]) , \" bits\")"
   ]
  },
  {
   "cell_type": "markdown",
   "metadata": {},
   "source": [
    "## Etape 4 :\n",
    "A l'aide du programme que vous venez d'écrire, convertir en binaire les nombres entre 1 000 000 et 1 000 300"
   ]
  },
  {
   "cell_type": "code",
   "execution_count": null,
   "metadata": {},
   "outputs": [],
   "source": [
    "#Etape 4:\n",
    "for a in range(1000000 ,1000300 ):\n",
    "    #convertir a en binaire et l'affecter à une nouvelle variable\n",
    "    abin = bin(a)\n",
    "    #Ecrire la phrase de synthese  \n",
    "    print (a, \"s'écrit en binaire : \", abin[2:], \"sur \", len(abin[2:]) , \" bits\")"
   ]
  },
  {
   "cell_type": "markdown",
   "metadata": {},
   "source": [
    "Est-ce encore lisible ?\n",
    "Que peut on faire ?\n",
    "\n",
    "Existe il d'autres représentation des nombres entiers en informatique ?"
   ]
  },
  {
   "cell_type": "markdown",
   "metadata": {},
   "source": [
    "## Etape 5 :\n",
    "Mettez en oeuvre une nouvelle méthode de codage **hexadecimal** pour des nombres de 0 à 300 puis de 1 000 000 à 1 000 300\n",
    "\n",
    "Ce nouveau codage se nomme **hexadecimal**.\n"
   ]
  },
  {
   "cell_type": "code",
   "execution_count": null,
   "metadata": {},
   "outputs": [],
   "source": [
    "#Etape 5 : \n",
    "for a in range(1000000 ,1000300 ):\n",
    "    #convertir a en binaire et l'affecter à une nouvelle variable\n",
    "    ahex = hex(a)\n",
    "    #Ecrire la phrase de synthese  \n",
    "    print (a, \"s'écrit en hexadecimal : \", ahex[2:], \"sur \", len(ahex[2:]) , \" bits\")"
   ]
  },
  {
   "cell_type": "markdown",
   "metadata": {},
   "source": [
    "## Etape 6 :\n",
    "Reprenez votre programme et modifier la phrase de synthèse pour afficher côte à côté le binaire et le nouveau codage\n",
    "\n",
    "_exemple :_  <b>15 s'écrit en binaire  1111 et en XXXX s'écrit xxxx ? </b>"
   ]
  },
  {
   "cell_type": "code",
   "execution_count": null,
   "metadata": {},
   "outputs": [],
   "source": [
    "#Etape 6 : \n",
    "for a in range(0 ,300 ):\n",
    "    #convertir a en binaire et l'affecter à une nouvelle variable\n",
    "    ahex = hex(a)\n",
    "    abin = bin(a)\n",
    "    #Ecrire la phrase de synthese  \n",
    "    #print (a, \"s'écrit en hexadecimal : \", ahex[2:], \"et en binaire \", abin[2:])\n",
    "    print(f\"{a} s'écrit en hexadecimal {ahex[2:]} et en binaire {abin[2:]}.\")"
   ]
  },
  {
   "cell_type": "markdown",
   "metadata": {},
   "source": [
    "Que remarquez vous ?"
   ]
  }
 ],
 "metadata": {
  "kernelspec": {
   "display_name": "Python 3",
   "language": "python",
   "name": "python3"
  },
  "language_info": {
   "codemirror_mode": {
    "name": "ipython",
    "version": 3
   },
   "file_extension": ".py",
   "mimetype": "text/x-python",
   "name": "python",
   "nbconvert_exporter": "python",
   "pygments_lexer": "ipython3",
   "version": "3.8.3"
  }
 },
 "nbformat": 4,
 "nbformat_minor": 2
}
